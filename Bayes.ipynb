{
  "nbformat": 4,
  "nbformat_minor": 0,
  "metadata": {
    "colab": {
      "provenance": [],
      "collapsed_sections": []
    },
    "kernelspec": {
      "name": "python3",
      "display_name": "Python 3"
    },
    "language_info": {
      "name": "python"
    }
  },
  "cells": [
    {
      "cell_type": "markdown",
      "source": [
        "# Clasificador Bayesiano Ingenuo"
      ],
      "metadata": {
        "id": "18PfC8Cppt7O"
      }
    },
    {
      "cell_type": "markdown",
      "source": [
        "## Ejemplo 1: Juego con un dado\n",
        "* 1 y 2 Gana\n",
        "* 3 y 4 Nada\n",
        "* 5 y 6 piErde"
      ],
      "metadata": {
        "id": "hBIjslSvulrD"
      }
    },
    {
      "cell_type": "code",
      "execution_count": 1,
      "metadata": {
        "id": "BiHcZXW7Hcz8"
      },
      "outputs": [],
      "source": [
        "import numpy as np\n",
        "G=np.array([1,1,0,0,0,0])\n",
        "N=np.array([0,0,1,1,0,0])\n",
        "E=np.array([0,0,0,0,1,1])\n",
        "U=np.array([1,1,1,1,1,1])\n"
      ]
    },
    {
      "cell_type": "code",
      "source": [
        "(U==G+N+E).all()"
      ],
      "metadata": {
        "colab": {
          "base_uri": "https://localhost:8080/"
        },
        "id": "-MfyZAmGJEkD",
        "outputId": "62694b01-85b8-440c-ba8f-b0d84d61d1ba"
      },
      "execution_count": 2,
      "outputs": [
        {
          "output_type": "execute_result",
          "data": {
            "text/plain": [
              "True"
            ]
          },
          "metadata": {},
          "execution_count": 2
        }
      ]
    },
    {
      "cell_type": "markdown",
      "source": [
        "## Probabilidad de cada cara del dado\n",
        "Después de 100 lanzamientos estos fueron los resultados:\n",
        "1 18\n",
        "2 15\n",
        "3 18\n",
        "4 15\n",
        "5 18\n",
        "6 16\n"
      ],
      "metadata": {
        "id": "PX0IEIWwwFHz"
      }
    },
    {
      "cell_type": "code",
      "source": [
        "dado = np.array([18,15,18,15,18,16])\n",
        "n = dado.sum()\n",
        "n"
      ],
      "metadata": {
        "colab": {
          "base_uri": "https://localhost:8080/"
        },
        "id": "reI18pvdKDSf",
        "outputId": "3b4e29ac-b526-4e79-8398-a8a90bee4989"
      },
      "execution_count": 3,
      "outputs": [
        {
          "output_type": "execute_result",
          "data": {
            "text/plain": [
              "100"
            ]
          },
          "metadata": {},
          "execution_count": 3
        }
      ]
    },
    {
      "cell_type": "code",
      "source": [
        "D=dado/n\n",
        "D"
      ],
      "metadata": {
        "colab": {
          "base_uri": "https://localhost:8080/"
        },
        "id": "dR-RQgc2K6ZD",
        "outputId": "872cadaa-31e4-4606-aa38-775c27d1e618"
      },
      "execution_count": 4,
      "outputs": [
        {
          "output_type": "execute_result",
          "data": {
            "text/plain": [
              "array([0.18, 0.15, 0.18, 0.15, 0.18, 0.16])"
            ]
          },
          "metadata": {},
          "execution_count": 4
        }
      ]
    },
    {
      "cell_type": "markdown",
      "source": [
        "## Definición de producto punto\n",
        "$\\vec{u} \\cdot \\vec{v} = \\begin{pmatrix} a_1 \\\\ a_2 \\\\ \\vdots \\\\ a_n \\end{pmatrix} \\cdot \\begin{pmatrix} b_1 \\\\ b_2 \\\\ \\vdots \\\\ b_n \\end{pmatrix} = a_1 b_1 + a_2 b_2 + \\cdots + a_n b_1n  = \\sum_{i=1}^n a_i b_i$"
      ],
      "metadata": {
        "id": "Khxy83bUJeMG"
      }
    },
    {
      "cell_type": "markdown",
      "source": [
        "## Calculo de las probabilidades usando notación vectorial"
      ],
      "metadata": {
        "id": "-hQwWWsGKImG"
      }
    },
    {
      "cell_type": "code",
      "source": [
        "D.dot(U)"
      ],
      "metadata": {
        "colab": {
          "base_uri": "https://localhost:8080/"
        },
        "id": "81R55oYFLE1H",
        "outputId": "c8ebb886-e519-48ec-ea60-f73b321f8978"
      },
      "execution_count": 5,
      "outputs": [
        {
          "output_type": "execute_result",
          "data": {
            "text/plain": [
              "1.0"
            ]
          },
          "metadata": {},
          "execution_count": 5
        }
      ]
    },
    {
      "cell_type": "code",
      "source": [
        "P_G = D.dot(G)\n",
        "P_G"
      ],
      "metadata": {
        "colab": {
          "base_uri": "https://localhost:8080/"
        },
        "id": "HtH8662RLzZT",
        "outputId": "386832bd-9f76-4a12-de42-ad0db6289da6"
      },
      "execution_count": 6,
      "outputs": [
        {
          "output_type": "execute_result",
          "data": {
            "text/plain": [
              "0.32999999999999996"
            ]
          },
          "metadata": {},
          "execution_count": 6
        }
      ]
    },
    {
      "cell_type": "code",
      "source": [
        "P_N = D.dot(N)\n",
        "P_N"
      ],
      "metadata": {
        "colab": {
          "base_uri": "https://localhost:8080/"
        },
        "outputId": "8cddd9f9-9fbc-4054-89bf-7ab59517d248",
        "id": "R4t9JKv6MA8q"
      },
      "execution_count": 7,
      "outputs": [
        {
          "output_type": "execute_result",
          "data": {
            "text/plain": [
              "0.32999999999999996"
            ]
          },
          "metadata": {},
          "execution_count": 7
        }
      ]
    },
    {
      "cell_type": "code",
      "source": [
        "P_E = D.dot(E)\n",
        "P_E"
      ],
      "metadata": {
        "colab": {
          "base_uri": "https://localhost:8080/"
        },
        "outputId": "545d4ec5-c25d-45af-a506-947b52860f06",
        "id": "uQ8aKIB5MBCG"
      },
      "execution_count": 8,
      "outputs": [
        {
          "output_type": "execute_result",
          "data": {
            "text/plain": [
              "0.33999999999999997"
            ]
          },
          "metadata": {},
          "execution_count": 8
        }
      ]
    },
    {
      "cell_type": "markdown",
      "source": [
        "## Diferencia de probabilidad entre paRes e Impares"
      ],
      "metadata": {
        "id": "tJmaKvvzw9ac"
      }
    },
    {
      "cell_type": "code",
      "source": [
        "I=np.array([1,0,1,0,1,0])\n",
        "R=np.array([0,1,0,1,0,1])"
      ],
      "metadata": {
        "id": "BgSxo37bu84x"
      },
      "execution_count": 9,
      "outputs": []
    },
    {
      "cell_type": "code",
      "source": [
        "(U==R+I).all()"
      ],
      "metadata": {
        "colab": {
          "base_uri": "https://localhost:8080/"
        },
        "id": "ORLU3VS4JLvG",
        "outputId": "bc813509-0ad4-45c4-eac7-2619d924cf3e"
      },
      "execution_count": 10,
      "outputs": [
        {
          "output_type": "execute_result",
          "data": {
            "text/plain": [
              "True"
            ]
          },
          "metadata": {},
          "execution_count": 10
        }
      ]
    },
    {
      "cell_type": "code",
      "source": [
        "P_R = D.dot(R)\n",
        "P_R"
      ],
      "metadata": {
        "colab": {
          "base_uri": "https://localhost:8080/"
        },
        "id": "h9Yjkcb_LOMV",
        "outputId": "5ad460e2-fc25-49a4-cc18-cdb15cd8f51d"
      },
      "execution_count": 11,
      "outputs": [
        {
          "output_type": "execute_result",
          "data": {
            "text/plain": [
              "0.45999999999999996"
            ]
          },
          "metadata": {},
          "execution_count": 11
        }
      ]
    },
    {
      "cell_type": "code",
      "source": [
        "P_I = D.dot(I)\n",
        "P_I"
      ],
      "metadata": {
        "colab": {
          "base_uri": "https://localhost:8080/"
        },
        "id": "kJec6FTGLdzJ",
        "outputId": "0055a47e-59db-4d16-afc0-fa724f300b65"
      },
      "execution_count": 12,
      "outputs": [
        {
          "output_type": "execute_result",
          "data": {
            "text/plain": [
              "0.54"
            ]
          },
          "metadata": {},
          "execution_count": 12
        }
      ]
    },
    {
      "cell_type": "code",
      "source": [
        "dado[1-1]/n"
      ],
      "metadata": {
        "colab": {
          "base_uri": "https://localhost:8080/"
        },
        "id": "INOB5YPfM2Mc",
        "outputId": "631ff65a-79a5-4d69-f52a-faafb6ff9dd5"
      },
      "execution_count": 13,
      "outputs": [
        {
          "output_type": "execute_result",
          "data": {
            "text/plain": [
              "0.18"
            ]
          },
          "metadata": {},
          "execution_count": 13
        }
      ]
    },
    {
      "cell_type": "code",
      "source": [
        "P_GnI = D.dot(G*I)\n",
        "P_GnI"
      ],
      "metadata": {
        "colab": {
          "base_uri": "https://localhost:8080/"
        },
        "id": "MY-TE0WuMg6J",
        "outputId": "cd017f8c-6f7d-427d-f5d6-21fc21e044da"
      },
      "execution_count": 14,
      "outputs": [
        {
          "output_type": "execute_result",
          "data": {
            "text/plain": [
              "0.18"
            ]
          },
          "metadata": {},
          "execution_count": 14
        }
      ]
    },
    {
      "cell_type": "markdown",
      "source": [
        "Probabilidad de que ganó dado, que es impar\n",
        "\n",
        "$P(G/I) = \\frac{P(G \\cap I)}{P(I) }  $"
      ],
      "metadata": {
        "id": "o_8MM9EtSMe_"
      }
    },
    {
      "cell_type": "code",
      "source": [
        "dado[1 -1]/(dado[1 -1]+dado[3 -1]+dado[5 -1])"
      ],
      "metadata": {
        "colab": {
          "base_uri": "https://localhost:8080/"
        },
        "id": "64dBhcBsM2JT",
        "outputId": "ba79a16e-67fd-4612-cef9-2f4d87361288"
      },
      "execution_count": 15,
      "outputs": [
        {
          "output_type": "execute_result",
          "data": {
            "text/plain": [
              "0.3333333333333333"
            ]
          },
          "metadata": {},
          "execution_count": 15
        }
      ]
    },
    {
      "cell_type": "code",
      "source": [
        "D[1 -1]/(D[1 -1]+D[3 -1]+D[5 -1])"
      ],
      "metadata": {
        "colab": {
          "base_uri": "https://localhost:8080/"
        },
        "id": "lWSy-vR4QweD",
        "outputId": "c1e566d8-d79a-4059-b382-0b9fe186d34d"
      },
      "execution_count": 16,
      "outputs": [
        {
          "output_type": "execute_result",
          "data": {
            "text/plain": [
              "0.3333333333333333"
            ]
          },
          "metadata": {},
          "execution_count": 16
        }
      ]
    },
    {
      "cell_type": "code",
      "source": [
        "D.dot(G*I)/D.dot(I)"
      ],
      "metadata": {
        "colab": {
          "base_uri": "https://localhost:8080/"
        },
        "id": "byuH15GsM2Gg",
        "outputId": "edfe17e3-a5f6-4b36-82ba-5095fff3ba03"
      },
      "execution_count": 17,
      "outputs": [
        {
          "output_type": "execute_result",
          "data": {
            "text/plain": [
              "0.3333333333333333"
            ]
          },
          "metadata": {},
          "execution_count": 17
        }
      ]
    },
    {
      "cell_type": "code",
      "source": [
        "P_GdI = P_GnI/P_I\n",
        "P_GdI"
      ],
      "metadata": {
        "colab": {
          "base_uri": "https://localhost:8080/"
        },
        "id": "V5GBftqrRUQk",
        "outputId": "e4700508-bbb1-40d2-dceb-4922e51d39dc"
      },
      "execution_count": 18,
      "outputs": [
        {
          "output_type": "execute_result",
          "data": {
            "text/plain": [
              "0.3333333333333333"
            ]
          },
          "metadata": {},
          "execution_count": 18
        }
      ]
    },
    {
      "cell_type": "markdown",
      "source": [
        "Probabilidad de que es impar, dado que ganó\n",
        "$P(I/G) = \\frac{P(G \\cap I)}{P(G) }  $"
      ],
      "metadata": {
        "id": "Ft73miCvSXbc"
      }
    },
    {
      "cell_type": "code",
      "source": [
        "dado[1 -1]/(dado[1 -1]+dado[2 -1])"
      ],
      "metadata": {
        "colab": {
          "base_uri": "https://localhost:8080/"
        },
        "outputId": "11307e65-8cd6-43ff-873d-8ce572639612",
        "id": "-pDadly4Sunm"
      },
      "execution_count": 19,
      "outputs": [
        {
          "output_type": "execute_result",
          "data": {
            "text/plain": [
              "0.5454545454545454"
            ]
          },
          "metadata": {},
          "execution_count": 19
        }
      ]
    },
    {
      "cell_type": "code",
      "source": [
        "D[1 -1]/(D[1 -1]+D[2 -1])"
      ],
      "metadata": {
        "colab": {
          "base_uri": "https://localhost:8080/"
        },
        "outputId": "458e5317-80b3-4962-b44e-d0f2e5287734",
        "id": "6V7ZYgYiSunm"
      },
      "execution_count": 20,
      "outputs": [
        {
          "output_type": "execute_result",
          "data": {
            "text/plain": [
              "0.5454545454545455"
            ]
          },
          "metadata": {},
          "execution_count": 20
        }
      ]
    },
    {
      "cell_type": "code",
      "source": [
        "D.dot(G*I)/D.dot(G)"
      ],
      "metadata": {
        "colab": {
          "base_uri": "https://localhost:8080/"
        },
        "outputId": "a8ba8dcf-1408-44f2-ed27-5baf67365c8e",
        "id": "AAB1DwImSunn"
      },
      "execution_count": 21,
      "outputs": [
        {
          "output_type": "execute_result",
          "data": {
            "text/plain": [
              "0.5454545454545455"
            ]
          },
          "metadata": {},
          "execution_count": 21
        }
      ]
    },
    {
      "cell_type": "code",
      "source": [
        "P_IdG = P_GnI/P_G\n",
        "P_IdG"
      ],
      "metadata": {
        "colab": {
          "base_uri": "https://localhost:8080/"
        },
        "outputId": "04077618-4e78-47fb-917d-c2bcabcd3ebb",
        "id": "gPgR17yASunn"
      },
      "execution_count": 22,
      "outputs": [
        {
          "output_type": "execute_result",
          "data": {
            "text/plain": [
              "0.5454545454545455"
            ]
          },
          "metadata": {},
          "execution_count": 22
        }
      ]
    },
    {
      "cell_type": "markdown",
      "source": [
        "## Teorema de Bayes\n",
        "\n",
        "$P(A/B) P(B) = P(A \\cap B) = P(B/A) P(A)$"
      ],
      "metadata": {
        "id": "aA942nTBxWeU"
      }
    },
    {
      "cell_type": "markdown",
      "source": [
        "## Clasificador Bayesiano aplicado al NPL\n",
        "\n",
        "### Suposiciones:\n",
        "* Probabilidad de una secuencia de palabras\n",
        "\n",
        "$p(w_1 \\ w_2 \\ \\cdots \\ w_k)=p(w_1)p(w_2)\\cdots p(\\ w_k)$\n",
        "\n",
        "$p((w_1 \\ w_2 \\ \\cdots \\ w_k)/clase_1)=p(w_1/clase_1)p(w_2/clase_1)\\cdots p(w_k/clase_1)$\n",
        "\n",
        "###  Aplicación en la clasificación de sentimientos positivos (+) y negativos (-)\n",
        "\n",
        "$p( + /(w_1 \\ w_2 \\ \\cdots \\ w_k))=\\frac{p((w_1 \\ w_2 \\ \\cdots \\ w_k)/ + ) p(+)}{p(w_1 \\ w_2 \\ \\cdots \\ w_k)}$\n",
        "\n",
        "$p( - /(w_1 \\ w_2 \\ \\cdots \\ w_k))=\\frac{p((w_1 \\ w_2 \\ \\cdots \\ w_k)/ - ) p(-)}{p(w_1 \\ w_2 \\ \\cdots \\ w_k)}$\n",
        "\n",
        "$\\frac{p( + /(w_1 \\ w_2 \\ \\cdots \\ w_k))}{p( - /(w_1 \\ w_2 \\ \\cdots \\ w_k))}=\\frac{\\frac{p((w_1 \\ w_2 \\ \\cdots \\ w_k)/ + ) p(+)}{p(w_1 \\ w_2 \\ \\cdots \\ w_k)}}{\\frac{p((w_1 \\ w_2 \\ \\cdots \\ w_k)/ - ) p(-)}{p(w_1 \\ w_2 \\ \\cdots \\ w_k)}}$\n",
        "\n",
        "$\\frac{p( + /(w_1 \\ w_2 \\ \\cdots \\ w_k))}{p( - /(w_1 \\ w_2 \\ \\cdots \\ w_k))}=\\frac{p((w_1 \\ w_2 \\ \\cdots \\ w_k)/ + ) p(+)}{p((w_1 \\ w_2 \\ \\cdots \\ w_k)/ - ) p(-)}$\n",
        "\n",
        "$\\frac{p( + /(w_1 \\ w_2 \\ \\cdots \\ w_k))}{p( - /(w_1 \\ w_2 \\ \\cdots \\ w_k))}=\\frac{p(w_1/ +) \\ p(w_2/ +) \\ \\cdots \\ p(w_k/ +) p(+)}{p(w_1/ -) \\ p(w_2/ -) \\ \\cdots \\ p(w_k/ -)p(-)}$\n",
        "\n",
        "Si la cantidad de sentencias positivas es igual a las sentencias negativas entonces $p(+)=p(-)$\n",
        "\n",
        "$\\frac{p( + /(w_1 \\ w_2 \\ \\cdots \\ w_k))}{p( - /(w_1 \\ w_2 \\ \\cdots \\ w_k))}=\\frac{p(w_1/ +) \\ p(w_2/ +) \\ \\cdots \\ p(w_k/ +) }{p(w_1/ -) \\ p(w_2/ -) \\ \\cdots \\ p(w_k/ -)}$\n",
        "\n",
        "Para lo cual es necesario encontrar $p(w/+)$, la probabilidad de cada palabra dado que sea positiva, y $p(w/-)$, la probabilidad de cada palabra dado que sea negativa.\n",
        "\n"
      ],
      "metadata": {
        "id": "DmyYDQEOy614"
      }
    },
    {
      "cell_type": "markdown",
      "source": [
        "## Aplicación en la revisión de artículos\n",
        "\n",
        "El siguiente archivo \n",
        "https://archive.ics.uci.edu/ml/machine-learning-databases/00410/reviews.json \n",
        "contiene la revisión de artículos y su evaluación (-2, -1, 0, 1, 2). \n",
        "\n"
      ],
      "metadata": {
        "id": "HoPdGOGUYHFJ"
      }
    },
    {
      "cell_type": "code",
      "source": [
        "import json\n",
        "f = open('reviews.json')\n",
        "data = json.load(f)['paper']\n",
        "f.close()\n",
        "len(data)"
      ],
      "metadata": {
        "colab": {
          "base_uri": "https://localhost:8080/"
        },
        "id": "v9cI5kYca-rR",
        "outputId": "0ac8a109-e994-41ae-b7a8-cb5b7eabdd81"
      },
      "execution_count": 23,
      "outputs": [
        {
          "output_type": "execute_result",
          "data": {
            "text/plain": [
              "172"
            ]
          },
          "metadata": {},
          "execution_count": 23
        }
      ]
    },
    {
      "cell_type": "code",
      "source": [
        "data[0]['review'][0]"
      ],
      "metadata": {
        "colab": {
          "base_uri": "https://localhost:8080/"
        },
        "id": "jdIL4XOX93DO",
        "outputId": "e2f776bf-404e-4000-defc-e03cf1ca8dda"
      },
      "execution_count": 24,
      "outputs": [
        {
          "output_type": "execute_result",
          "data": {
            "text/plain": [
              "{'confidence': '4',\n",
              " 'evaluation': '1',\n",
              " 'id': 1,\n",
              " 'lan': 'es',\n",
              " 'orientation': '0',\n",
              " 'remarks': '',\n",
              " 'text': '- El artículo aborda un problema contingente y muy relevante, e incluye tanto un diagnóstico nacional de uso de buenas prácticas como una solución (buenas prácticas concretas). - El lenguaje es adecuado.  - El artículo se siente como la concatenación de tres artículos diferentes: (1) resultados de una encuesta, (2) buenas prácticas de seguridad, (3) incorporación de buenas prácticas. - El orden de las secciones sería mejor si refleja este orden (la versión revisada es #2, #1, #3). - El artículo no tiene validación de ningún tipo, ni siquiera por evaluación de expertos.',\n",
              " 'timespan': '2010-07-05'}"
            ]
          },
          "metadata": {},
          "execution_count": 24
        }
      ]
    },
    {
      "cell_type": "markdown",
      "source": [
        "La variable `listado` contiene la evaluación y el comentario correspondiente preprocesado."
      ],
      "metadata": {
        "id": "NBGlSpfg-qPY"
      }
    },
    {
      "cell_type": "code",
      "source": [
        "import nltk\n",
        "nltk.download('punkt')"
      ],
      "metadata": {
        "colab": {
          "base_uri": "https://localhost:8080/"
        },
        "id": "xRJ95lOb_15a",
        "outputId": "fc0ae6bb-2e7a-4140-935c-9f6dd9d54950"
      },
      "execution_count": 25,
      "outputs": [
        {
          "output_type": "stream",
          "name": "stderr",
          "text": [
            "[nltk_data] Downloading package punkt to /root/nltk_data...\n",
            "[nltk_data]   Package punkt is already up-to-date!\n"
          ]
        },
        {
          "output_type": "execute_result",
          "data": {
            "text/plain": [
              "True"
            ]
          },
          "metadata": {},
          "execution_count": 25
        }
      ]
    },
    {
      "cell_type": "code",
      "source": [
        "from nltk.corpus import stopwords \n",
        "nltk.download('stopwords')\n",
        "stop_words = set(stopwords.words('spanish')) \n",
        "len(stop_words)"
      ],
      "metadata": {
        "colab": {
          "base_uri": "https://localhost:8080/"
        },
        "id": "yJYVcOS3_t94",
        "outputId": "4ea998f7-3bdd-4a9f-b2c9-ec666f1c2837"
      },
      "execution_count": 26,
      "outputs": [
        {
          "output_type": "stream",
          "name": "stderr",
          "text": [
            "[nltk_data] Downloading package stopwords to /root/nltk_data...\n",
            "[nltk_data]   Package stopwords is already up-to-date!\n"
          ]
        },
        {
          "output_type": "execute_result",
          "data": {
            "text/plain": [
              "313"
            ]
          },
          "metadata": {},
          "execution_count": 26
        }
      ]
    },
    {
      "cell_type": "code",
      "source": [
        "listado_total=[]\n",
        "for art in data:\n",
        "  for rev in art['review']:\n",
        "    if rev['lan'] == 'es':\n",
        "      palabras=nltk.tokenize.word_tokenize(rev['text'])\n",
        "      palabras=[w for w in palabras if not w in stop_words] \n",
        "      palabras=[w for w in palabras if len(w)>1] \n",
        "      listado_total.append((rev['evaluation'],palabras))\n",
        "\n",
        "len(listado_total)"
      ],
      "metadata": {
        "colab": {
          "base_uri": "https://localhost:8080/"
        },
        "id": "bRoz7yAdgmyM",
        "outputId": "7e9081fa-dc8c-47ba-9653-3f708cca469a"
      },
      "execution_count": 27,
      "outputs": [
        {
          "output_type": "execute_result",
          "data": {
            "text/plain": [
              "388"
            ]
          },
          "metadata": {},
          "execution_count": 27
        }
      ]
    },
    {
      "cell_type": "code",
      "source": [
        "import sklearn\n",
        "\n",
        "listado_train,listado_test=sklearn.model_selection.train_test_split(listado_total,\n",
        "                                                                    random_state=2,\n",
        "                                                                    test_size=0.25)\n",
        "#i=int(len(listado_total)*.8)\n",
        "#listado_train=listado_total[:i]\n",
        "#listado_test=listado_total[i:]\n",
        "len(listado_train),len(listado_test)"
      ],
      "metadata": {
        "colab": {
          "base_uri": "https://localhost:8080/"
        },
        "id": "Gv7zICgMCwuW",
        "outputId": "bca61f7d-1212-4002-fe03-e37eeefadd36"
      },
      "execution_count": 28,
      "outputs": [
        {
          "output_type": "execute_result",
          "data": {
            "text/plain": [
              "(291, 97)"
            ]
          },
          "metadata": {},
          "execution_count": 28
        }
      ]
    },
    {
      "cell_type": "markdown",
      "source": [
        "Se extrae el vocabulario y se lleva cuenta de las respectivas evaluaciones."
      ],
      "metadata": {
        "id": "1N49fcqPAa55"
      }
    },
    {
      "cell_type": "code",
      "source": [
        "vocabulario={}\n",
        "minimo=np.inf\n",
        "maximo=-np.inf\n",
        "for eval,texto in listado_train:\n",
        "  eval=int(eval)\n",
        "  minimo = min(minimo,eval)\n",
        "  maximo = max(maximo,eval)\n",
        "  for palabra in texto:\n",
        "    if palabra not in vocabulario:\n",
        "      vocabulario[palabra]={i:0 for i in range(-2,3)}\n",
        "    vocabulario[palabra][eval] += 1\n",
        "len_voc=len(vocabulario)\n",
        "maximo,minimo,len_voc\n"
      ],
      "metadata": {
        "colab": {
          "base_uri": "https://localhost:8080/"
        },
        "id": "O6No5Cb4i1Xk",
        "outputId": "2b27ee32-bdf2-4beb-9b66-0d0f95dfd660"
      },
      "execution_count": 29,
      "outputs": [
        {
          "output_type": "execute_result",
          "data": {
            "text/plain": [
              "(2, -2, 5924)"
            ]
          },
          "metadata": {},
          "execution_count": 29
        }
      ]
    },
    {
      "cell_type": "code",
      "source": [
        "voc_lista=list(vocabulario.keys())\n",
        "voc_lista[0]"
      ],
      "metadata": {
        "colab": {
          "base_uri": "https://localhost:8080/",
          "height": 35
        },
        "id": "6sI9J9qbv7bt",
        "outputId": "d7d62b68-707c-471c-9e15-3194f3722db0"
      },
      "execution_count": 30,
      "outputs": [
        {
          "output_type": "execute_result",
          "data": {
            "text/plain": [
              "'El'"
            ],
            "application/vnd.google.colaboratory.intrinsic+json": {
              "type": "string"
            }
          },
          "metadata": {},
          "execution_count": 30
        }
      ]
    },
    {
      "cell_type": "code",
      "source": [
        "vocabulario[voc_lista[0]]"
      ],
      "metadata": {
        "colab": {
          "base_uri": "https://localhost:8080/"
        },
        "id": "mPDJk-azv7YN",
        "outputId": "8aab8323-b985-49f2-fd42-ff8f340451d9"
      },
      "execution_count": 31,
      "outputs": [
        {
          "output_type": "execute_result",
          "data": {
            "text/plain": [
              "{-2: 100, -1: 67, 0: 63, 1: 74, 2: 74}"
            ]
          },
          "metadata": {},
          "execution_count": 31
        }
      ]
    },
    {
      "cell_type": "code",
      "source": [
        "suma={i:0 for i in range(-2,3)}\n",
        "suma"
      ],
      "metadata": {
        "colab": {
          "base_uri": "https://localhost:8080/"
        },
        "id": "2quimnzd3nRr",
        "outputId": "4327173b-f902-436a-9b7d-aaf59831f695"
      },
      "execution_count": 32,
      "outputs": [
        {
          "output_type": "execute_result",
          "data": {
            "text/plain": [
              "{-2: 0, -1: 0, 0: 0, 1: 0, 2: 0}"
            ]
          },
          "metadata": {},
          "execution_count": 32
        }
      ]
    },
    {
      "cell_type": "code",
      "source": [
        "minimos={i:3 for i in range(-2,3)}\n",
        "minimos"
      ],
      "metadata": {
        "colab": {
          "base_uri": "https://localhost:8080/"
        },
        "id": "mfXPKplu7337",
        "outputId": "1b0a5544-79e1-4b5f-a075-9a30c7947785"
      },
      "execution_count": 33,
      "outputs": [
        {
          "output_type": "execute_result",
          "data": {
            "text/plain": [
              "{-2: 3, -1: 3, 0: 3, 1: 3, 2: 3}"
            ]
          },
          "metadata": {},
          "execution_count": 33
        }
      ]
    },
    {
      "cell_type": "code",
      "source": [
        "for palabra in vocabulario:\n",
        "  for i in range(-2,3):\n",
        "    #print(i,vocabulario[palabra][i])\n",
        "    suma[i] += vocabulario[palabra][i]\n",
        "    minimos[i] = min(minimos[i],vocabulario[palabra][i])\n",
        "suma"
      ],
      "metadata": {
        "colab": {
          "base_uri": "https://localhost:8080/"
        },
        "id": "d5SScVSdv7U3",
        "outputId": "6b0abd55-00b7-400c-cb36-985c3a846efa"
      },
      "execution_count": 34,
      "outputs": [
        {
          "output_type": "execute_result",
          "data": {
            "text/plain": [
              "{-2: 7279, -1: 4614, 0: 5042, 1: 5244, 2: 5139}"
            ]
          },
          "metadata": {},
          "execution_count": 34
        }
      ]
    },
    {
      "cell_type": "markdown",
      "source": [
        "Se calculan las probabilidades condicionales de cada palabra"
      ],
      "metadata": {
        "id": "PJje2uoBA7M8"
      }
    },
    {
      "cell_type": "code",
      "source": [
        "for palabra in vocabulario:\n",
        "    vocabulario[palabra]['mas']=(vocabulario[palabra][2]+vocabulario[palabra][1]+1)/(suma[2]+suma[1]+len_voc)\n",
        "    vocabulario[palabra]['menos']=(vocabulario[palabra][-2]+vocabulario[palabra][-1]+1)/(suma[-2]+suma[-1]+len_voc)\n",
        "vocabulario[voc_lista[0]]"
      ],
      "metadata": {
        "colab": {
          "base_uri": "https://localhost:8080/"
        },
        "id": "MzwYDfCMv7SS",
        "outputId": "c50c7792-06fa-457b-bfeb-c93c431b5442"
      },
      "execution_count": 35,
      "outputs": [
        {
          "output_type": "execute_result",
          "data": {
            "text/plain": [
              "{-2: 100,\n",
              " -1: 67,\n",
              " 0: 63,\n",
              " 1: 74,\n",
              " 2: 74,\n",
              " 'mas': 0.009137180351996075,\n",
              " 'menos': 0.00942919683448392}"
            ]
          },
          "metadata": {},
          "execution_count": 35
        }
      ]
    },
    {
      "cell_type": "markdown",
      "source": [
        "Se predicen los comentarios del entrenamiento"
      ],
      "metadata": {
        "id": "3pagfmWlBT0a"
      }
    },
    {
      "cell_type": "code",
      "source": [
        "eval_pred_train = []\n",
        "for i in range(len(listado_train)):\n",
        "  eval,texto = listado_train[i]\n",
        "  e=1\n",
        "  for palabra in texto:\n",
        "    if palabra not in vocabulario:\n",
        "      vocabulario[palabra]={'mas':1,'menos':1}\n",
        "    e *= vocabulario[palabra]['mas']\n",
        "    e /= vocabulario[palabra]['menos']\n",
        "    #if i==0:\n",
        "      #print(palabra,vocabulario[palabra]['mas'],vocabulario[palabra]['menos'])\n",
        "  eval_pred_train.append(e)\n",
        "eval_pred_train[0]"
      ],
      "metadata": {
        "colab": {
          "base_uri": "https://localhost:8080/"
        },
        "id": "07gRLWVuHkj5",
        "outputId": "3b9bf194-dff0-44b4-e8df-3158fd16dbb9"
      },
      "execution_count": 36,
      "outputs": [
        {
          "output_type": "execute_result",
          "data": {
            "text/plain": [
              "1.4250309180133933e-20"
            ]
          },
          "metadata": {},
          "execution_count": 36
        }
      ]
    },
    {
      "cell_type": "code",
      "source": [
        "bien1=0\n",
        "bien2=0\n",
        "mal1=0\n",
        "mal2=0\n",
        "otros =0\n",
        "for i,(ev,tx) in enumerate(listado_train):\n",
        "  ev=int(ev)\n",
        "  if (eval_pred_train[i] >= 1) and (ev >= 0):\n",
        "    bien1 += 1\n",
        "  elif (eval_pred_train[i] <= 1) and (ev <= 0):\n",
        "    bien2 += 1\n",
        "  elif (eval_pred_train[i] <= 1) and (ev >= 0):\n",
        "    mal1 += 1\n",
        "  elif (eval_pred_train[i] >= 1) and (ev <= 0):\n",
        "    mal2 += 1\n",
        "  else:\n",
        "    otros += 1\n",
        "\n",
        "mal1,mal2,bien1,bien2,otros,mal1+mal2+bien1+bien2+otros"
      ],
      "metadata": {
        "colab": {
          "base_uri": "https://localhost:8080/"
        },
        "id": "7Ai8pUWoH6Rx",
        "outputId": "f6a475ff-8688-45ae-e15b-6dc7d45c1adf"
      },
      "execution_count": 37,
      "outputs": [
        {
          "output_type": "execute_result",
          "data": {
            "text/plain": [
              "(1, 0, 157, 133, 0, 291)"
            ]
          },
          "metadata": {},
          "execution_count": 37
        }
      ]
    },
    {
      "cell_type": "markdown",
      "source": [
        "Se predicen los comentarios de prueba"
      ],
      "metadata": {
        "id": "GJ52i4wZLHop"
      }
    },
    {
      "cell_type": "code",
      "source": [
        "eval_pred_test = []\n",
        "for i in range(len(listado_test)):\n",
        "  eval,texto = listado_test[i]\n",
        "  e=1\n",
        "  for palabra in texto:\n",
        "    if palabra not in vocabulario:\n",
        "      vocabulario[palabra]={'mas':1,'menos':1}\n",
        "    e *= vocabulario[palabra]['mas']\n",
        "    e /= vocabulario[palabra]['menos']\n",
        "    #if i==0:\n",
        "      #print(palabra,vocabulario[palabra]['mas'],vocabulario[palabra]['menos'])\n",
        "  eval_pred_test.append(e)\n",
        "eval_pred_test[0]"
      ],
      "metadata": {
        "colab": {
          "base_uri": "https://localhost:8080/"
        },
        "id": "5TvhyYxcv7Pu",
        "outputId": "bf39c030-8db5-4bff-e7bc-1ace66f07ca6"
      },
      "execution_count": 38,
      "outputs": [
        {
          "output_type": "execute_result",
          "data": {
            "text/plain": [
              "6.274259570537281"
            ]
          },
          "metadata": {},
          "execution_count": 38
        }
      ]
    },
    {
      "cell_type": "markdown",
      "source": [
        "Se comparan las predicciones con las evaluaciones"
      ],
      "metadata": {
        "id": "CrNwf_JQBhi4"
      }
    },
    {
      "cell_type": "code",
      "source": [
        "bien1=0\n",
        "bien2=0\n",
        "mal1=0\n",
        "mal2=0\n",
        "otros =0\n",
        "for i,(ev,tx) in enumerate(listado_test):\n",
        "  ev=int(ev)\n",
        "  if (eval_pred_test[i] >= 1) and (ev >= 0):\n",
        "    bien1 += 1\n",
        "  elif (eval_pred_test[i] <= 1) and (ev <= 0):\n",
        "    bien2 += 1\n",
        "  elif (eval_pred_test[i] <= 1) and (ev >= 0):\n",
        "    mal1 += 1\n",
        "  elif (eval_pred_test[i] >= 1) and (ev <= 0):\n",
        "    mal2 += 1\n",
        "  else:\n",
        "    otros += 1\n",
        "\n",
        "mal1,mal2,bien1,bien2,otros,mal1+mal2+bien1+bien2+otros"
      ],
      "metadata": {
        "colab": {
          "base_uri": "https://localhost:8080/"
        },
        "id": "4j1WfZHWv7K-",
        "outputId": "0c8e7e9c-7169-4de2-8a8c-71279842a9a4"
      },
      "execution_count": 39,
      "outputs": [
        {
          "output_type": "execute_result",
          "data": {
            "text/plain": [
              "(20, 11, 34, 32, 0, 97)"
            ]
          },
          "metadata": {},
          "execution_count": 39
        }
      ]
    }
  ]
}