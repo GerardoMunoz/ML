{
  "nbformat": 4,
  "nbformat_minor": 0,
  "metadata": {
    "colab": {
      "provenance": [],
      "collapsed_sections": [],
      "authorship_tag": "ABX9TyPcO98QmdCkc87tJRAjl3ci",
      "include_colab_link": true
    },
    "kernelspec": {
      "name": "python3",
      "display_name": "Python 3"
    },
    "language_info": {
      "name": "python"
    }
  },
  "cells": [
    {
      "cell_type": "markdown",
      "metadata": {
        "id": "view-in-github",
        "colab_type": "text"
      },
      "source": [
        "<a href=\"https://colab.research.google.com/github/GerardoMunoz/ML/blob/main/Arrhythmia.ipynb\" target=\"_parent\"><img src=\"https://colab.research.google.com/assets/colab-badge.svg\" alt=\"Open In Colab\"/></a>"
      ]
    },
    {
      "cell_type": "markdown",
      "source": [
        "# Resumen\n",
        "\n",
        "\n",
        "1. Clasificadores vistos\n",
        " 1. Respuesta más repetida\n",
        " 1. Característica más acertada\n",
        " 1. Vecino cercano\n",
        " 1. Bayesiano\n",
        " 1. Reg. Logística\n",
        " 1. Redes neuronales (capas densas o convolucionales)\n",
        "\n",
        "1. Entrenar y evaluar el modelo\n",
        " 1. Dividir datos de entrenamiento y prueba\n",
        " 1. Matriz de confusión \n",
        " 1. Verosimilitud (likelihood),  exactitud (accuracy) y error o pérdida (loss)\n",
        "\n",
        "1. Compara los resultados obtenidos entre varios modelos \n",
        "\n",
        " \n",
        "\n"
      ],
      "metadata": {
        "id": "PbKDtjwkPksZ"
      }
    },
    {
      "cell_type": "code",
      "execution_count": null,
      "metadata": {
        "id": "4qiYArwgPjHl"
      },
      "outputs": [],
      "source": []
    },
    {
      "cell_type": "markdown",
      "source": [
        "##  Lectura de los datos\n",
        "Para este ejemplo lee solamente la altura y el peso y crea 5 características con cada una. Un valor bajo "
      ],
      "metadata": {
        "id": "fQqY8cf0PsrG"
      }
    },
    {
      "cell_type": "code",
      "source": [
        "#from google.colab import files \n",
        "#uploaded = files.upload()"
      ],
      "metadata": {
        "id": "rNJVantevhXC"
      },
      "execution_count": 1,
      "outputs": []
    },
    {
      "cell_type": "markdown",
      "source": [
        "Conjunto de datos\n",
        "\n",
        "https://archive.ics.uci.edu/ml/machine-learning-databases/arrhythmia/arrhythmia.data\n",
        "\n",
        "Descripción\n",
        "\n",
        "https://archive.ics.uci.edu/ml/datasets/arrhythmia\n",
        "\n",
        "Artículo\n",
        "\n",
        "http://www.cs.bilkent.edu.tr/tech-reports/1998/BU-CEIS-9802.pdf"
      ],
      "metadata": {
        "id": "cMdPrhN8yHty"
      }
    },
    {
      "cell_type": "code",
      "source": [
        "f_in = open(\"arrhythmia.data\",'r')\n",
        "arrhythmia = f_in.readlines()\n",
        "f_in.close()\n",
        "len(arrhythmia)"
      ],
      "metadata": {
        "colab": {
          "base_uri": "https://localhost:8080/"
        },
        "id": "1hB2lQzAvjmm",
        "outputId": "e847aadf-5119-4213-cf5a-6686766b0093"
      },
      "execution_count": 2,
      "outputs": [
        {
          "output_type": "execute_result",
          "data": {
            "text/plain": [
              "452"
            ]
          },
          "metadata": {},
          "execution_count": 2
        }
      ]
    },
    {
      "cell_type": "code",
      "source": [
        "alturas_cm=[]\n",
        "pesos_kg=[]\n",
        "etiquetas=[]\n",
        "for renglon in arrhythmia:\n",
        "  datos_ren_str = renglon.split(',')\n",
        "  try:\n",
        "      altura_cm = int(datos_ren_str[2])\n",
        "      if altura_cm > 200:\n",
        "        continue\n",
        "      peso_kg = int(datos_ren_str[3])\n",
        "      etiqueta = int(datos_ren_str[-1])\n",
        "  except:\n",
        "     continue\n",
        "  alturas_cm.append(altura_cm)\n",
        "  pesos_kg.append(peso_kg)\n",
        "  etiquetas.append(etiqueta)\n",
        "#alturas_cm=np.array(alturas_cm)\n",
        "#pesos_kg=np.array(pesos_kg)\n",
        "#etiquetas=np.array(etiquetas)\n",
        "alturas_cm[:10],min(alturas_cm),max(alturas_cm)"
      ],
      "metadata": {
        "colab": {
          "base_uri": "https://localhost:8080/"
        },
        "id": "vsY5MVZpj7Vx",
        "outputId": "65eb52f7-fcdf-4c6d-8567-fb37a2708253"
      },
      "execution_count": 3,
      "outputs": [
        {
          "output_type": "execute_result",
          "data": {
            "text/plain": [
              "([190, 165, 172, 175, 190, 169, 160, 162, 168, 167], 105, 190)"
            ]
          },
          "metadata": {},
          "execution_count": 3
        }
      ]
    },
    {
      "cell_type": "code",
      "source": [
        "pesos_kg[:10],min(pesos_kg),max(pesos_kg)"
      ],
      "metadata": {
        "colab": {
          "base_uri": "https://localhost:8080/"
        },
        "id": "5ycDSgc8m0QY",
        "outputId": "3473d883-62a3-4f1a-b222-8552299b9160"
      },
      "execution_count": 4,
      "outputs": [
        {
          "output_type": "execute_result",
          "data": {
            "text/plain": [
              "([80, 64, 95, 94, 80, 51, 52, 54, 56, 67], 10, 176)"
            ]
          },
          "metadata": {},
          "execution_count": 4
        }
      ]
    },
    {
      "cell_type": "code",
      "source": [
        "etiquetas[:10],min(etiquetas),max(etiquetas)"
      ],
      "metadata": {
        "colab": {
          "base_uri": "https://localhost:8080/"
        },
        "id": "U-QHAqJlnMmV",
        "outputId": "9365e8e1-1d0f-4225-862d-cd51373b3bf7"
      },
      "execution_count": 5,
      "outputs": [
        {
          "output_type": "execute_result",
          "data": {
            "text/plain": [
              "([8, 6, 10, 1, 7, 14, 1, 1, 1, 10], 1, 16)"
            ]
          },
          "metadata": {},
          "execution_count": 5
        }
      ]
    },
    {
      "cell_type": "markdown",
      "source": [
        "A continuación se agrupan algunos pesos y algunas alturas."
      ],
      "metadata": {
        "id": "YkZRNKKnda1Y"
      }
    },
    {
      "cell_type": "code",
      "source": [
        "minima,maxima=min(pesos_kg),max(pesos_kg)\n",
        "peso_car=[int((peso-minima)/10) for peso in pesos_kg  ]\n",
        "num_peso_car=max(peso_car)\n",
        "peso_car[:10],min(peso_car),max(peso_car)"
      ],
      "metadata": {
        "colab": {
          "base_uri": "https://localhost:8080/"
        },
        "id": "74tLnsYxpC9v",
        "outputId": "906b437f-aea4-496d-b576-8388830e46e7"
      },
      "execution_count": 6,
      "outputs": [
        {
          "output_type": "execute_result",
          "data": {
            "text/plain": [
              "([7, 5, 8, 8, 7, 4, 4, 4, 4, 5], 0, 16)"
            ]
          },
          "metadata": {},
          "execution_count": 6
        }
      ]
    },
    {
      "cell_type": "code",
      "source": [
        "minima,maxima=min(alturas_cm),max(alturas_cm)\n",
        "altura_car=[int((altura-minima)/10) for altura in alturas_cm  ]\n",
        "num_altura_car=max(altura_car)\n",
        "altura_car[:10],min(altura_car),max(altura_car)"
      ],
      "metadata": {
        "colab": {
          "base_uri": "https://localhost:8080/"
        },
        "id": "DPpBWBC7q3QB",
        "outputId": "804ae23e-3145-4b35-b3b0-69c11d47b556"
      },
      "execution_count": 7,
      "outputs": [
        {
          "output_type": "execute_result",
          "data": {
            "text/plain": [
              "([8, 6, 6, 7, 8, 6, 5, 5, 6, 6], 0, 8)"
            ]
          },
          "metadata": {},
          "execution_count": 7
        }
      ]
    },
    {
      "cell_type": "code",
      "source": [
        "etiqueta_carac=[etiqueta-1 for etiqueta in etiquetas]\n",
        "num_etiqueta_carac=max(etiqueta_carac)\n",
        "etiqueta_carac[:10],min(etiqueta_carac),max(etiqueta_carac)"
      ],
      "metadata": {
        "colab": {
          "base_uri": "https://localhost:8080/"
        },
        "id": "Xg64oHsAul5t",
        "outputId": "855e7400-5679-4fc8-bf39-f85eac984fec"
      },
      "execution_count": 8,
      "outputs": [
        {
          "output_type": "execute_result",
          "data": {
            "text/plain": [
              "([7, 5, 9, 0, 6, 13, 0, 0, 0, 9], 0, 15)"
            ]
          },
          "metadata": {},
          "execution_count": 8
        }
      ]
    },
    {
      "cell_type": "code",
      "source": [
        "import numpy as np\n",
        "X=np.array([peso_car,altura_car]).T\n",
        "X.shape"
      ],
      "metadata": {
        "id": "4yTcLKq3vS7a",
        "colab": {
          "base_uri": "https://localhost:8080/"
        },
        "outputId": "f6a3b314-98c5-4359-aec1-8d441e6642c5"
      },
      "execution_count": 9,
      "outputs": [
        {
          "output_type": "execute_result",
          "data": {
            "text/plain": [
              "(450, 2)"
            ]
          },
          "metadata": {},
          "execution_count": 9
        }
      ]
    },
    {
      "cell_type": "code",
      "source": [
        "y=np.array(etiqueta_carac)\n",
        "y.shape"
      ],
      "metadata": {
        "colab": {
          "base_uri": "https://localhost:8080/"
        },
        "id": "CTMiRlvAxNKP",
        "outputId": "c32922c6-f9b2-4415-f034-edbcd9070821"
      },
      "execution_count": 10,
      "outputs": [
        {
          "output_type": "execute_result",
          "data": {
            "text/plain": [
              "(450,)"
            ]
          },
          "metadata": {},
          "execution_count": 10
        }
      ]
    },
    {
      "cell_type": "code",
      "source": [],
      "metadata": {
        "id": "HkCrYTrALNnR"
      },
      "execution_count": 10,
      "outputs": []
    },
    {
      "cell_type": "markdown",
      "source": [
        "## Separar datos de entrenamiento y de prueba"
      ],
      "metadata": {
        "id": "zG6m3mdUKBAY"
      }
    },
    {
      "cell_type": "code",
      "source": [
        "from sklearn.model_selection import train_test_split\n",
        "X_train, X_test, y_train, y_test = train_test_split( X, y, test_size=0.33, random_state=42)\n",
        "X_train.shape, X_test.shape, y_train.shape, y_test.shape"
      ],
      "metadata": {
        "colab": {
          "base_uri": "https://localhost:8080/"
        },
        "id": "xlXSnuu3KAbf",
        "outputId": "11f1731b-4e91-4d67-aa77-60f9bbc87c8a"
      },
      "execution_count": 11,
      "outputs": [
        {
          "output_type": "execute_result",
          "data": {
            "text/plain": [
              "((301, 2), (149, 2), (301,), (149,))"
            ]
          },
          "metadata": {},
          "execution_count": 11
        }
      ]
    },
    {
      "cell_type": "markdown",
      "source": [
        "##  Etiqueta que más se repite\n",
        "\n",
        "Este modelo sólo se usa como medida para comparar los otros modelos. \n",
        "\n",
        "\n"
      ],
      "metadata": {
        "id": "yZb4Xer-RS0C"
      }
    },
    {
      "cell_type": "code",
      "source": [
        "cuenta_etiquetas={}\n",
        "for etiqueta in y_train:\n",
        "  if etiqueta in cuenta_etiquetas:\n",
        "    cuenta_etiquetas[etiqueta] += 1\n",
        "  else:\n",
        "    cuenta_etiquetas[etiqueta] = 1\n",
        "\n",
        "\n",
        "cuenta_etiquetas"
      ],
      "metadata": {
        "colab": {
          "base_uri": "https://localhost:8080/"
        },
        "id": "6SoxxMYfRCOb",
        "outputId": "b5c05420-3ed4-40f2-ed74-0624f060b4bc"
      },
      "execution_count": 12,
      "outputs": [
        {
          "output_type": "execute_result",
          "data": {
            "text/plain": [
              "{0: 171,\n",
              " 14: 3,\n",
              " 3: 13,\n",
              " 1: 31,\n",
              " 9: 28,\n",
              " 5: 15,\n",
              " 15: 14,\n",
              " 2: 9,\n",
              " 4: 7,\n",
              " 8: 7,\n",
              " 6: 2,\n",
              " 13: 1}"
            ]
          },
          "metadata": {},
          "execution_count": 12
        }
      ]
    },
    {
      "cell_type": "markdown",
      "source": [
        "Algunos modelos requieren balancear el conjunto de datos"
      ],
      "metadata": {
        "id": "wmqQRZrZVHmy"
      }
    },
    {
      "cell_type": "code",
      "source": [
        "suma=0\n",
        "maximo=-1\n",
        "eti_max=-1\n",
        "\n",
        "for etiqueta in cuenta_etiquetas:\n",
        "  valor=cuenta_etiquetas[etiqueta]\n",
        "  suma += valor\n",
        "  if valor > maximo:\n",
        "    maximo = valor\n",
        "    eti_max = etiqueta\n",
        "\n",
        "f'Asumiendo siempre {eti_max} tiene una exctitud (accuracy) {maximo/suma}'"
      ],
      "metadata": {
        "colab": {
          "base_uri": "https://localhost:8080/",
          "height": 36
        },
        "id": "ApYzSOavTXJO",
        "outputId": "3bfd9d95-c6bd-44b2-8a88-77ba7ed10361"
      },
      "execution_count": 13,
      "outputs": [
        {
          "output_type": "execute_result",
          "data": {
            "text/plain": [
              "'Asumiendo siempre 0 tiene una exctitud (accuracy) 0.5681063122923588'"
            ],
            "application/vnd.google.colaboratory.intrinsic+json": {
              "type": "string"
            }
          },
          "metadata": {},
          "execution_count": 13
        }
      ]
    },
    {
      "cell_type": "code",
      "source": [
        "from sklearn.metrics import accuracy_score\n",
        "\n",
        "accuracy_score(y_train, [0]*len(y_train))"
      ],
      "metadata": {
        "colab": {
          "base_uri": "https://localhost:8080/"
        },
        "id": "0QnzthhezWNe",
        "outputId": "e760bf25-4cb0-4d6a-adba-60bc74a8eb93"
      },
      "execution_count": 14,
      "outputs": [
        {
          "output_type": "execute_result",
          "data": {
            "text/plain": [
              "0.5681063122923588"
            ]
          },
          "metadata": {},
          "execution_count": 14
        }
      ]
    },
    {
      "cell_type": "code",
      "source": [
        "from sklearn.metrics import accuracy_score\n",
        "\n",
        "accuracy_score(y_test, [0]*len(y_test))"
      ],
      "metadata": {
        "colab": {
          "base_uri": "https://localhost:8080/"
        },
        "id": "r5qBAIq5MMwp",
        "outputId": "6305d07a-7166-4e43-c229-7edcaf764e10"
      },
      "execution_count": 15,
      "outputs": [
        {
          "output_type": "execute_result",
          "data": {
            "text/plain": [
              "0.4966442953020134"
            ]
          },
          "metadata": {},
          "execution_count": 15
        }
      ]
    },
    {
      "cell_type": "code",
      "source": [
        "from sklearn.metrics import confusion_matrix\n",
        "confusion_matrix(y_train, [0]*len(y_train))\n"
      ],
      "metadata": {
        "colab": {
          "base_uri": "https://localhost:8080/"
        },
        "id": "2g4dH3Owyl1p",
        "outputId": "011d4a96-0aed-48ae-c20b-5401ae41c2b1"
      },
      "execution_count": 43,
      "outputs": [
        {
          "output_type": "execute_result",
          "data": {
            "text/plain": [
              "array([[171,   0,   0,   0,   0,   0,   0,   0,   0,   0,   0,   0],\n",
              "       [ 31,   0,   0,   0,   0,   0,   0,   0,   0,   0,   0,   0],\n",
              "       [  9,   0,   0,   0,   0,   0,   0,   0,   0,   0,   0,   0],\n",
              "       [ 13,   0,   0,   0,   0,   0,   0,   0,   0,   0,   0,   0],\n",
              "       [  7,   0,   0,   0,   0,   0,   0,   0,   0,   0,   0,   0],\n",
              "       [ 15,   0,   0,   0,   0,   0,   0,   0,   0,   0,   0,   0],\n",
              "       [  2,   0,   0,   0,   0,   0,   0,   0,   0,   0,   0,   0],\n",
              "       [  7,   0,   0,   0,   0,   0,   0,   0,   0,   0,   0,   0],\n",
              "       [ 28,   0,   0,   0,   0,   0,   0,   0,   0,   0,   0,   0],\n",
              "       [  1,   0,   0,   0,   0,   0,   0,   0,   0,   0,   0,   0],\n",
              "       [  3,   0,   0,   0,   0,   0,   0,   0,   0,   0,   0,   0],\n",
              "       [ 14,   0,   0,   0,   0,   0,   0,   0,   0,   0,   0,   0]])"
            ]
          },
          "metadata": {},
          "execution_count": 43
        }
      ]
    },
    {
      "cell_type": "code",
      "source": [
        "from sklearn.metrics import confusion_matrix\n",
        "confusion_matrix(y_test, [0]*len(y_test))"
      ],
      "metadata": {
        "colab": {
          "base_uri": "https://localhost:8080/"
        },
        "id": "RvVOfS6fMKxn",
        "outputId": "045df323-a9c5-4fb5-9813-9bbde78b9be1"
      },
      "execution_count": 17,
      "outputs": [
        {
          "output_type": "execute_result",
          "data": {
            "text/plain": [
              "array([[74,  0,  0,  0,  0,  0,  0,  0,  0,  0,  0,  0,  0],\n",
              "       [13,  0,  0,  0,  0,  0,  0,  0,  0,  0,  0,  0,  0],\n",
              "       [ 6,  0,  0,  0,  0,  0,  0,  0,  0,  0,  0,  0,  0],\n",
              "       [ 2,  0,  0,  0,  0,  0,  0,  0,  0,  0,  0,  0,  0],\n",
              "       [ 4,  0,  0,  0,  0,  0,  0,  0,  0,  0,  0,  0,  0],\n",
              "       [10,  0,  0,  0,  0,  0,  0,  0,  0,  0,  0,  0,  0],\n",
              "       [ 1,  0,  0,  0,  0,  0,  0,  0,  0,  0,  0,  0,  0],\n",
              "       [ 2,  0,  0,  0,  0,  0,  0,  0,  0,  0,  0,  0,  0],\n",
              "       [ 2,  0,  0,  0,  0,  0,  0,  0,  0,  0,  0,  0,  0],\n",
              "       [22,  0,  0,  0,  0,  0,  0,  0,  0,  0,  0,  0,  0],\n",
              "       [ 3,  0,  0,  0,  0,  0,  0,  0,  0,  0,  0,  0,  0],\n",
              "       [ 2,  0,  0,  0,  0,  0,  0,  0,  0,  0,  0,  0,  0],\n",
              "       [ 8,  0,  0,  0,  0,  0,  0,  0,  0,  0,  0,  0,  0]])"
            ]
          },
          "metadata": {},
          "execution_count": 17
        }
      ]
    },
    {
      "cell_type": "markdown",
      "source": [
        "## Clasificador Bayesiano\n",
        "\n",
        "Para ese ejemplo vamos a usar unn clasificador bayesiano categórico, https://scikit-learn.org/stable/modules/generated/sklearn.naive_bayes.CategoricalNB.html#sklearn.naive_bayes.CategoricalNB\n",
        "\n",
        "Este clasificador requiere que si una característica tiene $n$ categorías, entonces estas estén codificadas entre $0$ y $n-1$   \n",
        "\n"
      ],
      "metadata": {
        "id": "p9yGfRsebmoK"
      }
    },
    {
      "cell_type": "code",
      "source": [
        "from sklearn.naive_bayes import CategoricalNB\n",
        "clf = CategoricalNB()\n",
        "clf.fit(X_train, y_train)\n",
        "print(clf.predict(X[2:3]))"
      ],
      "metadata": {
        "id": "oUOmWWOrYKvo",
        "colab": {
          "base_uri": "https://localhost:8080/"
        },
        "outputId": "159b800d-2503-40f9-acc1-b5956de5032c"
      },
      "execution_count": 18,
      "outputs": [
        {
          "output_type": "stream",
          "name": "stdout",
          "text": [
            "[0]\n"
          ]
        }
      ]
    },
    {
      "cell_type": "code",
      "source": [
        "accuracy_score(y_train, clf.predict(X_train))"
      ],
      "metadata": {
        "colab": {
          "base_uri": "https://localhost:8080/"
        },
        "id": "IQ9MG-zRzmcg",
        "outputId": "e109ca51-5c1b-4dd6-e755-91678e7d2524"
      },
      "execution_count": 19,
      "outputs": [
        {
          "output_type": "execute_result",
          "data": {
            "text/plain": [
              "0.5813953488372093"
            ]
          },
          "metadata": {},
          "execution_count": 19
        }
      ]
    },
    {
      "cell_type": "code",
      "source": [
        "accuracy_score(y_test, clf.predict(X_test))"
      ],
      "metadata": {
        "colab": {
          "base_uri": "https://localhost:8080/"
        },
        "id": "Ag9m79GcMy9R",
        "outputId": "de7e964e-1bf1-498a-f6c9-7cf27a0ec8e7"
      },
      "execution_count": 20,
      "outputs": [
        {
          "output_type": "execute_result",
          "data": {
            "text/plain": [
              "0.4966442953020134"
            ]
          },
          "metadata": {},
          "execution_count": 20
        }
      ]
    },
    {
      "cell_type": "code",
      "source": [
        "from sklearn.metrics import confusion_matrix\n",
        "confusion_matrix(y_train, clf.predict(X_train))"
      ],
      "metadata": {
        "colab": {
          "base_uri": "https://localhost:8080/"
        },
        "id": "WmuIeWzKyHmv",
        "outputId": "b9c47bda-a468-493a-ccdb-f96618e561e5"
      },
      "execution_count": 21,
      "outputs": [
        {
          "output_type": "execute_result",
          "data": {
            "text/plain": [
              "array([[168,   0,   0,   0,   0,   0,   0,   0,   3,   0,   0,   0],\n",
              "       [ 30,   1,   0,   0,   0,   0,   0,   0,   0,   0,   0,   0],\n",
              "       [  9,   0,   0,   0,   0,   0,   0,   0,   0,   0,   0,   0],\n",
              "       [ 13,   0,   0,   0,   0,   0,   0,   0,   0,   0,   0,   0],\n",
              "       [  6,   0,   0,   0,   1,   0,   0,   0,   0,   0,   0,   0],\n",
              "       [ 15,   0,   0,   0,   0,   0,   0,   0,   0,   0,   0,   0],\n",
              "       [  2,   0,   0,   0,   0,   0,   0,   0,   0,   0,   0,   0],\n",
              "       [  6,   0,   0,   0,   0,   0,   0,   0,   1,   0,   0,   0],\n",
              "       [ 25,   0,   0,   0,   0,   0,   0,   0,   3,   0,   0,   0],\n",
              "       [  1,   0,   0,   0,   0,   0,   0,   0,   0,   0,   0,   0],\n",
              "       [  3,   0,   0,   0,   0,   0,   0,   0,   0,   0,   0,   0],\n",
              "       [ 11,   0,   0,   0,   0,   0,   0,   0,   1,   0,   0,   2]])"
            ]
          },
          "metadata": {},
          "execution_count": 21
        }
      ]
    },
    {
      "cell_type": "code",
      "source": [
        "confusion_matrix(y_test, clf.predict(X_test))"
      ],
      "metadata": {
        "colab": {
          "base_uri": "https://localhost:8080/"
        },
        "id": "qqvSAZksM-K3",
        "outputId": "08f039b4-85f3-46dc-b889-75e7e0f52ecc"
      },
      "execution_count": 22,
      "outputs": [
        {
          "output_type": "execute_result",
          "data": {
            "text/plain": [
              "array([[72,  0,  0,  0,  0,  0,  0,  0,  0,  1,  0,  0,  1],\n",
              "       [13,  0,  0,  0,  0,  0,  0,  0,  0,  0,  0,  0,  0],\n",
              "       [ 6,  0,  0,  0,  0,  0,  0,  0,  0,  0,  0,  0,  0],\n",
              "       [ 2,  0,  0,  0,  0,  0,  0,  0,  0,  0,  0,  0,  0],\n",
              "       [ 2,  0,  0,  0,  1,  0,  0,  0,  0,  0,  0,  0,  1],\n",
              "       [10,  0,  0,  0,  0,  0,  0,  0,  0,  0,  0,  0,  0],\n",
              "       [ 1,  0,  0,  0,  0,  0,  0,  0,  0,  0,  0,  0,  0],\n",
              "       [ 2,  0,  0,  0,  0,  0,  0,  0,  0,  0,  0,  0,  0],\n",
              "       [ 2,  0,  0,  0,  0,  0,  0,  0,  0,  0,  0,  0,  0],\n",
              "       [20,  0,  0,  0,  0,  0,  0,  0,  0,  1,  0,  0,  1],\n",
              "       [ 2,  0,  0,  0,  0,  0,  0,  0,  0,  1,  0,  0,  0],\n",
              "       [ 2,  0,  0,  0,  0,  0,  0,  0,  0,  0,  0,  0,  0],\n",
              "       [ 8,  0,  0,  0,  0,  0,  0,  0,  0,  0,  0,  0,  0]])"
            ]
          },
          "metadata": {},
          "execution_count": 22
        }
      ]
    },
    {
      "cell_type": "markdown",
      "source": [
        "## Característica más acertada\n",
        "\n",
        "Este modelo, por lo básico, usualmente sólo es usado para como referencia para comparar los otros modelos.\n",
        "\n",
        "\n",
        "### Peso"
      ],
      "metadata": {
        "id": "Xeno0tEgoVi1"
      }
    },
    {
      "cell_type": "code",
      "source": [
        "peso_eti=np.zeros((num_peso_car+1,num_etiqueta_carac+1))\n",
        "peso_eti.shape"
      ],
      "metadata": {
        "id": "x-HcRJAwmW_0",
        "colab": {
          "base_uri": "https://localhost:8080/"
        },
        "outputId": "0893286d-256c-4d59-9eb0-f19491d4878c"
      },
      "execution_count": 23,
      "outputs": [
        {
          "output_type": "execute_result",
          "data": {
            "text/plain": [
              "(17, 16)"
            ]
          },
          "metadata": {},
          "execution_count": 23
        }
      ]
    },
    {
      "cell_type": "code",
      "source": [
        "for i in range(len(peso_car)):\n",
        "  #print(peso_car[i],etiqueta_carac[i])\n",
        "  peso_eti[peso_car[i],etiqueta_carac[i]] +=1\n",
        "peso_eti"
      ],
      "metadata": {
        "id": "tdEn0rXsmW7S",
        "colab": {
          "base_uri": "https://localhost:8080/"
        },
        "outputId": "9b5d8d47-6b24-49e3-c961-c77de0849a3f"
      },
      "execution_count": 24,
      "outputs": [
        {
          "output_type": "execute_result",
          "data": {
            "text/plain": [
              "array([[ 1.,  0.,  0.,  0.,  2.,  0.,  0.,  0.,  0.,  0.,  0.,  0.,  0.,\n",
              "         0.,  0.,  0.],\n",
              "       [ 0.,  0.,  0.,  0.,  1.,  0.,  0.,  0.,  1.,  3.,  0.,  0.,  0.,\n",
              "         1.,  0.,  1.],\n",
              "       [ 1.,  0.,  0.,  0.,  1.,  0.,  0.,  0.,  0.,  1.,  0.,  0.,  0.,\n",
              "         0.,  0.,  1.],\n",
              "       [12.,  2.,  0.,  0.,  0.,  1.,  0.,  0.,  0.,  3.,  0.,  0.,  0.,\n",
              "         0.,  0.,  1.],\n",
              "       [54.,  4.,  0.,  1.,  1.,  4.,  0.,  0.,  1., 12.,  0.,  0.,  0.,\n",
              "         2.,  0.,  2.],\n",
              "       [63., 14.,  5.,  3.,  1., 10.,  1.,  0.,  1., 14.,  0.,  0.,  0.,\n",
              "         0.,  2.,  4.],\n",
              "       [56., 11.,  4.,  6.,  3.,  5.,  1.,  1.,  4., 11.,  0.,  0.,  0.,\n",
              "         1.,  1.,  5.],\n",
              "       [38.,  9.,  3.,  5.,  2.,  4.,  1.,  1.,  2.,  1.,  0.,  0.,  0.,\n",
              "         0.,  1.,  5.],\n",
              "       [14.,  2.,  2.,  0.,  0.,  1.,  0.,  0.,  0.,  5.,  0.,  0.,  0.,\n",
              "         0.,  1.,  3.],\n",
              "       [ 5.,  0.,  1.,  0.,  0.,  0.,  0.,  0.,  0.,  0.,  0.,  0.,  0.,\n",
              "         0.,  0.,  0.],\n",
              "       [ 0.,  1.,  0.,  0.,  0.,  0.,  0.,  0.,  0.,  0.,  0.,  0.,  0.,\n",
              "         0.,  0.,  0.],\n",
              "       [ 1.,  0.,  0.,  0.,  0.,  0.,  0.,  0.,  0.,  0.,  0.,  0.,  0.,\n",
              "         0.,  0.,  0.],\n",
              "       [ 0.,  0.,  0.,  0.,  0.,  0.,  0.,  0.,  0.,  0.,  0.,  0.,  0.,\n",
              "         0.,  0.,  0.],\n",
              "       [ 0.,  0.,  0.,  0.,  0.,  0.,  0.,  0.,  0.,  0.,  0.,  0.,  0.,\n",
              "         0.,  0.,  0.],\n",
              "       [ 0.,  0.,  0.,  0.,  0.,  0.,  0.,  0.,  0.,  0.,  0.,  0.,  0.,\n",
              "         0.,  0.,  0.],\n",
              "       [ 0.,  0.,  0.,  0.,  0.,  0.,  0.,  0.,  0.,  0.,  0.,  0.,  0.,\n",
              "         0.,  0.,  0.],\n",
              "       [ 0.,  1.,  0.,  0.,  0.,  0.,  0.,  0.,  0.,  0.,  0.,  0.,  0.,\n",
              "         0.,  0.,  0.]])"
            ]
          },
          "metadata": {},
          "execution_count": 24
        }
      ]
    },
    {
      "cell_type": "code",
      "source": [
        "peso_eti.shape"
      ],
      "metadata": {
        "colab": {
          "base_uri": "https://localhost:8080/"
        },
        "id": "PCm1Ga8uRS4r",
        "outputId": "ac2d2d8b-c491-4a6b-b705-ad697e8da58c"
      },
      "execution_count": 25,
      "outputs": [
        {
          "output_type": "execute_result",
          "data": {
            "text/plain": [
              "(17, 16)"
            ]
          },
          "metadata": {},
          "execution_count": 25
        }
      ]
    },
    {
      "cell_type": "code",
      "source": [
        "a_max_p=np.argmax(peso_eti,axis=1)\n",
        "a_max_p"
      ],
      "metadata": {
        "id": "9u_MognOmW2b",
        "colab": {
          "base_uri": "https://localhost:8080/"
        },
        "outputId": "eb3aa719-a82c-40eb-eedd-7c803dc7072a"
      },
      "execution_count": 26,
      "outputs": [
        {
          "output_type": "execute_result",
          "data": {
            "text/plain": [
              "array([4, 9, 0, 0, 0, 0, 0, 0, 0, 0, 1, 0, 0, 0, 0, 0, 1])"
            ]
          },
          "metadata": {},
          "execution_count": 26
        }
      ]
    },
    {
      "cell_type": "code",
      "source": [
        "X.shape"
      ],
      "metadata": {
        "colab": {
          "base_uri": "https://localhost:8080/"
        },
        "id": "SAcSvd4FREpL",
        "outputId": "1da0124a-060a-4a18-b92f-2e11e1ee61e9"
      },
      "execution_count": 27,
      "outputs": [
        {
          "output_type": "execute_result",
          "data": {
            "text/plain": [
              "(450, 2)"
            ]
          },
          "metadata": {},
          "execution_count": 27
        }
      ]
    },
    {
      "cell_type": "code",
      "source": [
        "def pred_car(X,i,respuestas):\n",
        "\n",
        "  return [respuestas[int(dat)] for dat in X[:,i] ]\n",
        "\n",
        "accuracy_score(y_train, pred_car(X_train,0,a_max_p))"
      ],
      "metadata": {
        "colab": {
          "base_uri": "https://localhost:8080/"
        },
        "id": "SKjDc_VNID__",
        "outputId": "6bfd53a5-573f-4b84-fb27-78ccdbbe19b9"
      },
      "execution_count": 28,
      "outputs": [
        {
          "output_type": "execute_result",
          "data": {
            "text/plain": [
              "0.5813953488372093"
            ]
          },
          "metadata": {},
          "execution_count": 28
        }
      ]
    },
    {
      "cell_type": "code",
      "source": [
        "accuracy_score(y_test, pred_car(X_test,0,a_max_p))"
      ],
      "metadata": {
        "colab": {
          "base_uri": "https://localhost:8080/"
        },
        "id": "jtoGyPE-Xaz9",
        "outputId": "0d420564-c94a-448d-e3a2-676ad4d6653f"
      },
      "execution_count": 29,
      "outputs": [
        {
          "output_type": "execute_result",
          "data": {
            "text/plain": [
              "0.5100671140939598"
            ]
          },
          "metadata": {},
          "execution_count": 29
        }
      ]
    },
    {
      "cell_type": "markdown",
      "source": [
        "### Altura"
      ],
      "metadata": {
        "id": "l57KkSMuSg0o"
      }
    },
    {
      "cell_type": "code",
      "source": [
        "alt_eti=np.zeros((num_altura_car+1,num_etiqueta_carac+1))\n",
        "alt_eti.shape"
      ],
      "metadata": {
        "colab": {
          "base_uri": "https://localhost:8080/"
        },
        "outputId": "5f44019b-b7db-4f49-c87b-90ee4408a59c",
        "id": "u4Ma6LnmSg0o"
      },
      "execution_count": 30,
      "outputs": [
        {
          "output_type": "execute_result",
          "data": {
            "text/plain": [
              "(9, 16)"
            ]
          },
          "metadata": {},
          "execution_count": 30
        }
      ]
    },
    {
      "cell_type": "code",
      "source": [
        "for i in range(len(altura_car)):\n",
        "  #print(peso_car[i],etiqueta_carac[i])\n",
        "  alt_eti[altura_car[i],etiqueta_carac[i]] +=1\n",
        "alt_eti"
      ],
      "metadata": {
        "colab": {
          "base_uri": "https://localhost:8080/"
        },
        "outputId": "8358d096-09b2-46e5-f642-fe4fe15c678a",
        "id": "_-Q5-NlISg0o"
      },
      "execution_count": 31,
      "outputs": [
        {
          "output_type": "execute_result",
          "data": {
            "text/plain": [
              "array([[  0.,   0.,   0.,   0.,   2.,   0.,   0.,   0.,   0.,   0.,   0.,\n",
              "          0.,   0.,   0.,   0.,   0.],\n",
              "       [  0.,   0.,   0.,   0.,   0.,   0.,   0.,   0.,   1.,   2.,   0.,\n",
              "          0.,   0.,   1.,   0.,   0.],\n",
              "       [  1.,   0.,   0.,   0.,   1.,   0.,   0.,   0.,   0.,   1.,   0.,\n",
              "          0.,   0.,   0.,   0.,   2.],\n",
              "       [  0.,   0.,   0.,   0.,   0.,   0.,   0.,   0.,   0.,   2.,   0.,\n",
              "          0.,   0.,   0.,   0.,   0.],\n",
              "       [ 13.,   3.,   0.,   0.,   0.,   2.,   0.,   0.,   1.,   2.,   0.,\n",
              "          0.,   0.,   0.,   0.,   1.],\n",
              "       [124.,  24.,   1.,   7.,   5.,   6.,   0.,   1.,   5.,  12.,   0.,\n",
              "          0.,   0.,   0.,   3.,   5.],\n",
              "       [ 72.,  15.,   9.,   4.,   2.,  15.,   1.,   0.,   1.,  25.,   0.,\n",
              "          0.,   0.,   3.,   2.,  10.],\n",
              "       [ 31.,   2.,   5.,   4.,   1.,   2.,   1.,   0.,   1.,   3.,   0.,\n",
              "          0.,   0.,   0.,   0.,   3.],\n",
              "       [  4.,   0.,   0.,   0.,   0.,   0.,   1.,   1.,   0.,   3.,   0.,\n",
              "          0.,   0.,   0.,   0.,   1.]])"
            ]
          },
          "metadata": {},
          "execution_count": 31
        }
      ]
    },
    {
      "cell_type": "code",
      "source": [
        "alt_eti.shape"
      ],
      "metadata": {
        "colab": {
          "base_uri": "https://localhost:8080/"
        },
        "outputId": "3b2bd974-6413-4da2-e196-1b1f4c80221a",
        "id": "ukh_4rOBSg0o"
      },
      "execution_count": 32,
      "outputs": [
        {
          "output_type": "execute_result",
          "data": {
            "text/plain": [
              "(9, 16)"
            ]
          },
          "metadata": {},
          "execution_count": 32
        }
      ]
    },
    {
      "cell_type": "code",
      "source": [
        "a_max_alt=np.argmax(alt_eti,axis=1)\n",
        "a_max_alt"
      ],
      "metadata": {
        "colab": {
          "base_uri": "https://localhost:8080/"
        },
        "outputId": "2ca8b7ea-4904-40d9-965d-08472a78ba23",
        "id": "8Gk-B6vTSg0o"
      },
      "execution_count": 33,
      "outputs": [
        {
          "output_type": "execute_result",
          "data": {
            "text/plain": [
              "array([ 4,  9, 15,  9,  0,  0,  0,  0,  0])"
            ]
          },
          "metadata": {},
          "execution_count": 33
        }
      ]
    },
    {
      "cell_type": "code",
      "source": [
        "X.shape"
      ],
      "metadata": {
        "colab": {
          "base_uri": "https://localhost:8080/"
        },
        "outputId": "8d62d0fa-e4e3-4e1e-905c-69111ddd443b",
        "id": "qDjbpZG1Sg0o"
      },
      "execution_count": 34,
      "outputs": [
        {
          "output_type": "execute_result",
          "data": {
            "text/plain": [
              "(450, 2)"
            ]
          },
          "metadata": {},
          "execution_count": 34
        }
      ]
    },
    {
      "cell_type": "code",
      "source": [
        "def pred_car(X,i,respuestas):\n",
        "\n",
        "  return [respuestas[int(dat)] for dat in X[:,i] ]\n",
        "\n",
        "accuracy_score(y_train, pred_car(X_train,1,a_max_alt))"
      ],
      "metadata": {
        "colab": {
          "base_uri": "https://localhost:8080/"
        },
        "outputId": "93291872-8658-4ca3-f142-db6594145658",
        "id": "UAoTQYdkSg0p"
      },
      "execution_count": 35,
      "outputs": [
        {
          "output_type": "execute_result",
          "data": {
            "text/plain": [
              "0.584717607973422"
            ]
          },
          "metadata": {},
          "execution_count": 35
        }
      ]
    },
    {
      "cell_type": "code",
      "source": [
        "accuracy_score(y_test, pred_car(X_test,1,a_max_alt))"
      ],
      "metadata": {
        "colab": {
          "base_uri": "https://localhost:8080/"
        },
        "id": "FLUuBlpEID8n",
        "outputId": "71a6aa3f-8043-40f4-910b-19f9afc0c3c9"
      },
      "execution_count": 42,
      "outputs": [
        {
          "output_type": "execute_result",
          "data": {
            "text/plain": [
              "0.5100671140939598"
            ]
          },
          "metadata": {},
          "execution_count": 42
        }
      ]
    }
  ]
}