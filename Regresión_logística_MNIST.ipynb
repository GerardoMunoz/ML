{
  "nbformat": 4,
  "nbformat_minor": 0,
  "metadata": {
    "colab": {
      "provenance": [],
      "collapsed_sections": []
    },
    "kernelspec": {
      "name": "python3",
      "display_name": "Python 3"
    },
    "language_info": {
      "name": "python"
    }
  },
  "cells": [
    {
      "cell_type": "code",
      "source": [
        "from sklearn.model_selection import train_test_split\n",
        "from sklearn.linear_model import LogisticRegression\n",
        "from sklearn.metrics import accuracy_score\n",
        "from sklearn.metrics import confusion_matrix\n",
        "import matplotlib.pyplot as plt\n",
        "import numpy as np"
      ],
      "metadata": {
        "id": "1ARmsoh33n1w"
      },
      "execution_count": null,
      "outputs": []
    },
    {
      "cell_type": "markdown",
      "source": [
        "# Regresión Logística\n",
        "## Regresión (lineal) Vs Clasificación (Regresión logística)\n",
        "Ya sabemos que en el aprendizaje supervisado debemos encontrar una función $f:X \\mapsto y$ que cumple lo mejor posible con los conjuntos de datos de entrenamiento `X`,`y`.\n",
        "\n",
        "En la regresión, el codominio $y$ es un intervalo. Por ejemplo, entre 0 y 1 (i.e. $0<=y_i<1$). El objetivo es encontrar la función continua que mejor se ajusta a los datos dados.\n",
        "\n",
        "\n",
        "Mientras que en la clasificación, el codominio $y$ es un conjunto finito.  Por ejemplo, el número 0 y el numero 1 (i.e. $y_i=0$ o $y_i=1$).. \n",
        "\n",
        "La regresión logística justo se encuentra en la intersección de ambas. Ya que consiste en ajustar una función sigmoide, la cual tiende a 0 o a 1. Por lo tanto, es usada para clasificación.\n",
        "\n"
      ],
      "metadata": {
        "id": "tmDu54dyT18n"
      }
    },
    {
      "cell_type": "markdown",
      "source": [
        "\n",
        "\n",
        "$f(t)=\\frac{1}{1+e^{-t}}$"
      ],
      "metadata": {
        "id": "1O-hjUkln6-r"
      }
    },
    {
      "cell_type": "code",
      "source": [
        "x=np.arange(-5,5,0.1)\n",
        "y=1/(1+np.e**(-x))\n",
        "plt.plot(x,y)"
      ],
      "metadata": {
        "colab": {
          "base_uri": "https://localhost:8080/",
          "height": 283
        },
        "id": "t4hY-QAOqhRz",
        "outputId": "79202597-2b13-47ba-db46-74ed508663b2"
      },
      "execution_count": null,
      "outputs": [
        {
          "output_type": "execute_result",
          "data": {
            "text/plain": [
              "[<matplotlib.lines.Line2D at 0x7f964f88e590>]"
            ]
          },
          "metadata": {},
          "execution_count": 2
        },
        {
          "output_type": "display_data",
          "data": {
            "text/plain": [
              "<Figure size 432x288 with 1 Axes>"
            ],
            "image/png": "[encoded data removed]"
          },
          "metadata": {
            "needs_background": "light"
          }
        }
      ]
    },
    {
      "cell_type": "markdown",
      "source": [
        "## Regresión logística \n",
        "\n",
        "La regresión logística consiste en ajustar los valores de $\\beta_i$ a partir de los datos dados.\n",
        "\n",
        "$y=\\frac{1}{1+e^{-(\\beta_0+\\beta_1x_1+\\beta_2x_2+\\cdots+\\beta_kx_k)}}$"
      ],
      "metadata": {
        "id": "HW8a6_BHoHno"
      }
    },
    {
      "cell_type": "markdown",
      "source": [
        "## Lectura de datos para clasificar dígitos\n"
      ],
      "metadata": {
        "id": "ODXb7PYfbkyP"
      }
    },
    {
      "cell_type": "code",
      "source": [
        "datos = np.genfromtxt('/content/sample_data/mnist_train_small.csv', delimiter=',')\n",
        "datos"
      ],
      "metadata": {
        "colab": {
          "base_uri": "https://localhost:8080/"
        },
        "id": "qeovU0oL4tgb",
        "outputId": "accb4b7b-eaf7-4edf-ab33-1420df84ce1a"
      },
      "execution_count": null,
      "outputs": [
        {
          "output_type": "execute_result",
          "data": {
            "text/plain": [
              "array([[6., 0., 0., ..., 0., 0., 0.],\n",
              "       [5., 0., 0., ..., 0., 0., 0.],\n",
              "       [7., 0., 0., ..., 0., 0., 0.],\n",
              "       ...,\n",
              "       [2., 0., 0., ..., 0., 0., 0.],\n",
              "       [9., 0., 0., ..., 0., 0., 0.],\n",
              "       [5., 0., 0., ..., 0., 0., 0.]])"
            ]
          },
          "metadata": {},
          "execution_count": 3
        }
      ]
    },
    {
      "cell_type": "code",
      "source": [
        "train_shape=datos.shape\n",
        "train_shape"
      ],
      "metadata": {
        "colab": {
          "base_uri": "https://localhost:8080/"
        },
        "id": "hVwIfEWw5GE5",
        "outputId": "5753bbc2-e2f7-40a9-8d7a-20b076f78e22"
      },
      "execution_count": null,
      "outputs": [
        {
          "output_type": "execute_result",
          "data": {
            "text/plain": [
              "(20000, 785)"
            ]
          },
          "metadata": {},
          "execution_count": 4
        }
      ]
    },
    {
      "cell_type": "code",
      "source": [
        "datos.shape"
      ],
      "metadata": {
        "colab": {
          "base_uri": "https://localhost:8080/"
        },
        "id": "AGDDNNfVkMJ5",
        "outputId": "3e4fca6d-b93c-40bd-b489-a903d313f325"
      },
      "execution_count": null,
      "outputs": [
        {
          "output_type": "execute_result",
          "data": {
            "text/plain": [
              "(20000, 785)"
            ]
          },
          "metadata": {},
          "execution_count": 5
        }
      ]
    },
    {
      "cell_type": "code",
      "source": [
        "plt.imshow(datos[0,1:].reshape((28,28)))"
      ],
      "metadata": {
        "colab": {
          "base_uri": "https://localhost:8080/",
          "height": 283
        },
        "id": "m6Zq4JAR46o7",
        "outputId": "72138a01-9f5c-4c20-d138-c46027f4138e"
      },
      "execution_count": null,
      "outputs": [
        {
          "output_type": "execute_result",
          "data": {
            "text/plain": [
              "<matplotlib.image.AxesImage at 0x7f964f86ba10>"
            ]
          },
          "metadata": {},
          "execution_count": 6
        },
        {
          "output_type": "display_data",
          "data": {
            "text/plain": [
              "<Figure size 432x288 with 1 Axes>"
            ],
            "image/png": "[encoded data removed]"
          },
          "metadata": {
            "needs_background": "light"
          }
        }
      ]
    },
    {
      "cell_type": "markdown",
      "source": [
        "\n",
        "El conjunto de datos son leído en un arreglo de Numpy. Cada renglón corresponde a un dígito, la primera columna es el valor del dígito la cual corresponderá a la variable `y`. Las restantes 784 columna corresponde a los pixeles del digito, cada uno tiene una resolución de 28x28. En total hay 20000 dígitos.\n"
      ],
      "metadata": {
        "id": "CgowKy-2kIKg"
      }
    },
    {
      "cell_type": "code",
      "source": [
        "def describe_axis(arr,axis=0):\n",
        "  print(\"Array =\", arr[:5])\n",
        "  return dict(\n",
        "  shape = arr.shape,\n",
        "  mean = np.mean(arr,axis=axis),\n",
        "  median = np.median(arr,axis=axis),\n",
        "  amin = np.amin(arr,axis=axis),\n",
        "  amax = np.amax(arr,axis=axis),\n",
        "  ptp = np.ptp(arr,axis=axis),\n",
        "  var = np.var(arr,axis=axis),\n",
        "  std = np.std(arr,axis=axis),\n",
        "  )\n",
        "  # print(\"Shape =\", arr.shape)\n",
        "  # print(\"Mean =\", mean)\n",
        "  # print(\"Median =\", median) \n",
        "  # print(\"Measures of Dispersion\")\n",
        "  # print(\"Minimum =\", min)\n",
        "  # print(\"Maximum =\", max)\n",
        "  # print(\"Range =\", range)\n",
        "  # print(\"Variance =\", variance)\n",
        "  # print(\"Standard Deviation =\", sd)\n",
        "\n"
      ],
      "metadata": {
        "id": "RA5bXag7y4if"
      },
      "execution_count": null,
      "outputs": []
    },
    {
      "cell_type": "code",
      "source": [
        "describe_axis(y)"
      ],
      "metadata": {
        "colab": {
          "base_uri": "https://localhost:8080/"
        },
        "id": "ROr-P7CT6xFW",
        "outputId": "1a3bfbf4-9692-44d4-aa24-6696a7da4373"
      },
      "execution_count": null,
      "outputs": [
        {
          "output_type": "stream",
          "name": "stdout",
          "text": [
            "Array = [0.00669285 0.00739154 0.00816257 0.0090133  0.0099518 ]\n"
          ]
        },
        {
          "output_type": "execute_result",
          "data": {
            "text/plain": [
              "{'shape': (100,),\n",
              " 'mean': 0.4950669285092411,\n",
              " 'median': 0.4875104062605256,\n",
              " 'amin': 0.006692850924284857,\n",
              " 'amax': 0.9926084586557179,\n",
              " 'ptp': 0.985915607731433,\n",
              " 'var': 0.15131532800085024,\n",
              " 'std': 0.38899270944434194}"
            ]
          },
          "metadata": {},
          "execution_count": 8
        }
      ]
    },
    {
      "cell_type": "markdown",
      "source": [
        "## Clasificación de dos dígitos con dos características.\n",
        "En este primer ejemplo no usaremos los 784 pixeles, sino solo dos características. Una tendrá la suma de los pixeles de la mitad izquierda y la otra tendrá la suma de los pixeles de la mitad derecha."
      ],
      "metadata": {
        "id": "XGQZqJOXh6oB"
      }
    },
    {
      "cell_type": "code",
      "source": [
        "X_orig=[]\n",
        "y=[]\n",
        "clases=(6,9)\n",
        "tot_num_obj_cla=1800\n",
        "num_obj_class=[0,0]\n",
        "for i in range(train_shape[0]):\n",
        "  if datos[i,0] in clases:\n",
        "    clase=clases.index(datos[i,0])\n",
        "    if num_obj_class[clase] >= tot_num_obj_cla:\n",
        "      continue\n",
        "    num_obj_class[clase] += 1\n",
        "    y.append(clase)\n",
        "    X_orig.append((datos[i,1:28*14+1].sum(),datos[i,28*14+1:].sum()))\n",
        "\n",
        "X_orig=np.array(X_orig)\n",
        "X=(X_orig//5000)\n",
        "y=np.array(y)\n",
        "len(X),len(y),num_obj_class\n",
        "\n"
      ],
      "metadata": {
        "colab": {
          "base_uri": "https://localhost:8080/"
        },
        "id": "V7Ku1hX78NR6",
        "outputId": "7168397c-ee4f-4896-a7ad-d68963cd3219"
      },
      "execution_count": null,
      "outputs": [
        {
          "output_type": "execute_result",
          "data": {
            "text/plain": [
              "(3600, 3600, [1800, 1800])"
            ]
          },
          "metadata": {},
          "execution_count": 9
        }
      ]
    },
    {
      "cell_type": "code",
      "source": [
        "ax = plt.axes()#projection='3d')\n",
        "ax.scatter(X_orig[:,0], X_orig[:,1], c=y,marker='.')"
      ],
      "metadata": {
        "colab": {
          "base_uri": "https://localhost:8080/",
          "height": 283
        },
        "id": "7EfUN3p9BwZW",
        "outputId": "0df70dc3-dffb-490f-bfee-6c23408b783d"
      },
      "execution_count": null,
      "outputs": [
        {
          "output_type": "execute_result",
          "data": {
            "text/plain": [
              "<matplotlib.collections.PathCollection at 0x7f9628ef7f90>"
            ]
          },
          "metadata": {},
          "execution_count": 10
        },
        {
          "output_type": "display_data",
          "data": {
            "text/plain": [
              "<Figure size 432x288 with 1 Axes>"
            ],
            "image/png": "[encoded data removed]"
          },
          "metadata": {
            "needs_background": "light"
          }
        }
      ]
    },
    {
      "cell_type": "markdown",
      "source": [
        "### Regresión lineal vs regresión logística\n",
        "\n",
        "Para separar las dos regiones con una línea recta no es posible usar la regresión lineal, ya que la regresión lineal usa un sólo conjuntos de puntos y pasa lo más cercano a los puntos. Por ejemplo, con la regresión lineal se podría hacer una recta que pasa por medio de los puntos amarillos y otra recta que pasa por medio de los puntos morados. Sin embargo, eso no sería de manera inmediata una forma para clasificar los puntos.\n",
        "\n",
        "\n",
        "Por otro lado, la regresión logística \n",
        "$y=\\frac{1}{1+e^{-(\\beta_0+\\beta_1x_1+\\beta_2x_2+\\cdots+\\beta_kx_k)}}$ \n",
        " sí permite encontrar, de manera inmediata,  una recta que separa las dos regiones. Ya que podemos suponer que en la frontera $y=\\frac{1}{2}$. Además, como sólo hay dos atributos, $k=2$.\n",
        "\n",
        "\n",
        "$\\frac{1}{2}=\\frac{1}{1+e^{-(\\beta_0+\\beta_1x_1+\\beta_2x_2)}}$\n",
        "\n",
        "$2=1+e^{-(\\beta_0+\\beta_1x_1+\\beta_2x_2)}$\n",
        "\n",
        "$1=e^{-(\\beta_0+\\beta_1x_1+\\beta_2x_2)}$\n",
        "\n",
        "$0=\\beta_0+\\beta_1x_1+\\beta_2x_2$\n",
        "\n",
        "$x_2=-(\\beta_0+\\beta_1x_1)/\\beta_2$\n",
        "\n",
        "La cual corresponde a la ecuación de la recta que separa las dos regiones.\n",
        "\n",
        "\n",
        "\n"
      ],
      "metadata": {
        "id": "onBlDq6bFghu"
      }
    },
    {
      "cell_type": "markdown",
      "source": [
        "### División de datos de entrenamiento y prueba"
      ],
      "metadata": {
        "id": "k0Feeyonz7LA"
      }
    },
    {
      "cell_type": "markdown",
      "source": [],
      "metadata": {
        "id": "gjqtGRe_z7IY"
      }
    },
    {
      "cell_type": "code",
      "source": [
        "X_train, X_test, y_train, y_test = train_test_split(\n",
        "                                       X_orig,\n",
        "                                       y,\n",
        "                                        train_size   = 0.75,\n",
        "                                        random_state = 1234,\n",
        "                                        shuffle      = True)\n",
        "X_train.shape, X_test.shape, y_train.shape, y_test.shape\n"
      ],
      "metadata": {
        "colab": {
          "base_uri": "https://localhost:8080/"
        },
        "id": "fC4kOifSNLOT",
        "outputId": "278e6976-89a4-4ee4-afad-594bf0b9c4ea"
      },
      "execution_count": null,
      "outputs": [
        {
          "output_type": "execute_result",
          "data": {
            "text/plain": [
              "((2700, 2), (900, 2), (2700,), (900,))"
            ]
          },
          "metadata": {},
          "execution_count": 11
        }
      ]
    },
    {
      "cell_type": "markdown",
      "source": [
        "### Entrenamiento del modelo"
      ],
      "metadata": {
        "id": "sk1CrlVC0ZTx"
      }
    },
    {
      "cell_type": "code",
      "source": [
        "modelo = LogisticRegression()\n",
        "modelo.fit(X = X_train, y = y_train)"
      ],
      "metadata": {
        "colab": {
          "base_uri": "https://localhost:8080/"
        },
        "id": "liaq79I3DenB",
        "outputId": "e19eb477-1ff6-4389-80a1-2bf48874014a"
      },
      "execution_count": null,
      "outputs": [
        {
          "output_type": "execute_result",
          "data": {
            "text/plain": [
              "LogisticRegression()"
            ]
          },
          "metadata": {},
          "execution_count": 12
        }
      ]
    },
    {
      "cell_type": "code",
      "source": [
        "A,B=modelo.coef_.tolist()[0]\n",
        "C=modelo.intercept_[0]\n",
        "A,B,C"
      ],
      "metadata": {
        "colab": {
          "base_uri": "https://localhost:8080/"
        },
        "id": "cPsrlAnPvfRE",
        "outputId": "a4133a31-8aca-48e1-c36d-15ac3688c369"
      },
      "execution_count": null,
      "outputs": [
        {
          "output_type": "execute_result",
          "data": {
            "text/plain": [
              "(0.0012634245259851003, -0.0010209980814786833, 3.2213447748782785e-07)"
            ]
          },
          "metadata": {},
          "execution_count": 13
        }
      ]
    },
    {
      "cell_type": "markdown",
      "source": [
        "$Ax+By=C$\n",
        "\n",
        "$y=(C-Ax)/B$"
      ],
      "metadata": {
        "id": "bUuHDSf_7uRP"
      }
    },
    {
      "cell_type": "code",
      "source": [
        "def y_modelo(x,A,B,C):\n",
        "  return (C-x*A)/B\n",
        "\n",
        "ax = plt.axes()#projection='3d')\n",
        "ax.scatter(X_orig[:,0], X_orig[:,1], c=y,marker='.')\n",
        "ax.plot([0,25000],[y_modelo(0,A,B,C),y_modelo(25000,A,B,C)])"
      ],
      "metadata": {
        "colab": {
          "base_uri": "https://localhost:8080/",
          "height": 283
        },
        "id": "bNDutRSW5nJ8",
        "outputId": "55cb710a-f985-4450-c0d5-ee740213cf6a"
      },
      "execution_count": null,
      "outputs": [
        {
          "output_type": "execute_result",
          "data": {
            "text/plain": [
              "[<matplotlib.lines.Line2D at 0x7f964f32c750>]"
            ]
          },
          "metadata": {},
          "execution_count": 14
        },
        {
          "output_type": "display_data",
          "data": {
            "text/plain": [
              "<Figure size 432x288 with 1 Axes>"
            ],
            "image/png": "[encoded data removed]"
          },
          "metadata": {
            "needs_background": "light"
          }
        }
      ]
    },
    {
      "cell_type": "markdown",
      "source": [
        "### Evaluación del modelo"
      ],
      "metadata": {
        "id": "edMruzf30mE_"
      }
    },
    {
      "cell_type": "code",
      "source": [
        "accuracy_score(y_train, modelo.predict(X_train))"
      ],
      "metadata": {
        "colab": {
          "base_uri": "https://localhost:8080/"
        },
        "id": "9TqKt4yR_Ava",
        "outputId": "b7f2c6d7-74ee-4996-98c9-f87876f316de"
      },
      "execution_count": null,
      "outputs": [
        {
          "output_type": "execute_result",
          "data": {
            "text/plain": [
              "0.8688888888888889"
            ]
          },
          "metadata": {},
          "execution_count": 15
        }
      ]
    },
    {
      "cell_type": "code",
      "source": [
        "accuracy_score(y_test, modelo.predict(X_test))"
      ],
      "metadata": {
        "colab": {
          "base_uri": "https://localhost:8080/"
        },
        "id": "_ly3xvtx_VRc",
        "outputId": "adb85f16-bc6a-46a6-d16d-639f518f8d7c"
      },
      "execution_count": null,
      "outputs": [
        {
          "output_type": "execute_result",
          "data": {
            "text/plain": [
              "0.8955555555555555"
            ]
          },
          "metadata": {},
          "execution_count": 16
        }
      ]
    },
    {
      "cell_type": "code",
      "source": [
        "confusion_matrix(y_train, modelo.predict(X_train))"
      ],
      "metadata": {
        "colab": {
          "base_uri": "https://localhost:8080/"
        },
        "id": "1VknptRgtrdr",
        "outputId": "3316e23a-aa30-49b2-d3bf-b506c6da583e"
      },
      "execution_count": null,
      "outputs": [
        {
          "output_type": "execute_result",
          "data": {
            "text/plain": [
              "array([[1153,  183],\n",
              "       [ 171, 1193]])"
            ]
          },
          "metadata": {},
          "execution_count": 17
        }
      ]
    },
    {
      "cell_type": "code",
      "source": [
        "confusion_matrix(y_test, modelo.predict(X_test))"
      ],
      "metadata": {
        "colab": {
          "base_uri": "https://localhost:8080/"
        },
        "id": "uyxNOrkotsi0",
        "outputId": "253f9f2d-f3a5-462e-bd04-7c59c21a9e16"
      },
      "execution_count": null,
      "outputs": [
        {
          "output_type": "execute_result",
          "data": {
            "text/plain": [
              "array([[415,  49],\n",
              "       [ 45, 391]])"
            ]
          },
          "metadata": {},
          "execution_count": 18
        }
      ]
    },
    {
      "cell_type": "markdown",
      "source": [
        "El modelo funciona relativamente bien para separar estos dos dígitos. Sin embargo, vamos a ver que no funciona bien para los otros dígitos."
      ],
      "metadata": {
        "id": "nKSE90CD_kvp"
      }
    },
    {
      "cell_type": "markdown",
      "source": [
        "## Clasificación de diez dígitos con dos características."
      ],
      "metadata": {
        "id": "uIl-uOXguhBV"
      }
    },
    {
      "cell_type": "code",
      "source": [
        "X_orig=[]\n",
        "y=[]\n",
        "clases=(0,1,2,3,4,5,6,7,8,9)\n",
        "tot_num_obj_cla=1800\n",
        "num_obj_class=[0]*len(clases)\n",
        "for i in range(train_shape[0]):\n",
        "  if datos[i,0] in clases:\n",
        "    clase=clases.index(datos[i,0])\n",
        "    if num_obj_class[clase] >= tot_num_obj_cla:\n",
        "      continue\n",
        "    num_obj_class[clase] += 1\n",
        "    y.append(clase)\n",
        "    X_orig.append((datos[i,1:28*14+1].sum(),datos[i,28*14+1:].sum()))\n",
        "\n",
        "X_orig=np.array(X_orig)\n",
        "X=(X_orig//5000)\n",
        "y=np.array(y)\n",
        "len(X),len(y),num_obj_class\n",
        "\n"
      ],
      "metadata": {
        "colab": {
          "base_uri": "https://localhost:8080/"
        },
        "outputId": "eb86d9f9-695a-46d0-8dc8-9ae69e5ab4e2",
        "id": "JCeMv0gjB_GF"
      },
      "execution_count": null,
      "outputs": [
        {
          "output_type": "execute_result",
          "data": {
            "text/plain": [
              "(17961, 17961, [1800, 1800, 1800, 1800, 1800, 1761, 1800, 1800, 1800, 1800])"
            ]
          },
          "metadata": {},
          "execution_count": 19
        }
      ]
    },
    {
      "cell_type": "code",
      "source": [
        "describe_axis(X)"
      ],
      "metadata": {
        "colab": {
          "base_uri": "https://localhost:8080/"
        },
        "outputId": "ba1dd287-0b65-46df-e904-9c662080e0c2",
        "id": "XgPjikJcB_GL"
      },
      "execution_count": null,
      "outputs": [
        {
          "output_type": "stream",
          "name": "stdout",
          "text": [
            "Array = [[2. 3.]\n",
            " [2. 2.]\n",
            " [2. 2.]\n",
            " [2. 2.]\n",
            " [2. 2.]]\n"
          ]
        },
        {
          "output_type": "execute_result",
          "data": {
            "text/plain": [
              "{'shape': (17961, 2),\n",
              " 'mean': array([1.97511274, 2.29018429]),\n",
              " 'median': array([2., 2.]),\n",
              " 'amin': array([0., 0.]),\n",
              " 'amax': array([6., 7.]),\n",
              " 'ptp': array([6., 7.]),\n",
              " 'var': array([0.79850094, 1.05581869]),\n",
              " 'std': array([0.8935888 , 1.02753038])}"
            ]
          },
          "metadata": {},
          "execution_count": 20
        }
      ]
    },
    {
      "cell_type": "code",
      "source": [
        "describe_axis(y)"
      ],
      "metadata": {
        "colab": {
          "base_uri": "https://localhost:8080/"
        },
        "outputId": "87dccfbb-e332-48c4-e996-8bea9f8cfae0",
        "id": "KpGmnW8kB_GL"
      },
      "execution_count": null,
      "outputs": [
        {
          "output_type": "stream",
          "name": "stdout",
          "text": [
            "Array = [6 5 7 9 5]\n"
          ]
        },
        {
          "output_type": "execute_result",
          "data": {
            "text/plain": [
              "{'shape': (17961,),\n",
              " 'mean': 4.498914314347753,\n",
              " 'median': 4.0,\n",
              " 'amin': 0,\n",
              " 'amax': 9,\n",
              " 'ptp': 9,\n",
              " 'var': 8.267369791722608,\n",
              " 'std': 2.8753034260270005}"
            ]
          },
          "metadata": {},
          "execution_count": 21
        }
      ]
    },
    {
      "cell_type": "code",
      "source": [
        "ax = plt.axes()#projection='3d')\n",
        "ax.scatter(X_orig[:,0], X_orig[:,1], c=y,marker='.')"
      ],
      "metadata": {
        "colab": {
          "base_uri": "https://localhost:8080/",
          "height": 285
        },
        "outputId": "9c6be9db-e31f-4171-be36-f90804316988",
        "id": "fljT3J8CB_GL"
      },
      "execution_count": null,
      "outputs": [
        {
          "output_type": "execute_result",
          "data": {
            "text/plain": [
              "<matplotlib.collections.PathCollection at 0x7f964f32cd50>"
            ]
          },
          "metadata": {},
          "execution_count": 22
        },
        {
          "output_type": "display_data",
          "data": {
            "text/plain": [
              "<Figure size 432x288 with 1 Axes>"
            ],
            "image/png": "[encoded data removed]"
          },
          "metadata": {
            "needs_background": "light"
          }
        }
      ]
    },
    {
      "cell_type": "markdown",
      "source": [
        " ### División de datos de entrenamiento y prueba"
      ],
      "metadata": {
        "id": "MZicd_N2B_GM"
      }
    },
    {
      "cell_type": "code",
      "source": [
        "X_train, X_test, y_train, y_test = train_test_split(\n",
        "                                       X_orig,\n",
        "                                       y,\n",
        "                                        train_size   = 0.75,\n",
        "                                        random_state = 1234,\n",
        "                                        shuffle      = True)\n",
        "X_train.shape, X_test.shape, y_train.shape, y_test.shape\n"
      ],
      "metadata": {
        "colab": {
          "base_uri": "https://localhost:8080/"
        },
        "outputId": "3b2c5cd9-f34b-4b14-d517-d663e6c0d7dc",
        "id": "oxpwqZpXB_GM"
      },
      "execution_count": null,
      "outputs": [
        {
          "output_type": "execute_result",
          "data": {
            "text/plain": [
              "((13470, 2), (4491, 2), (13470,), (4491,))"
            ]
          },
          "metadata": {},
          "execution_count": 23
        }
      ]
    },
    {
      "cell_type": "markdown",
      "source": [
        "### Entrenamiento del modelo"
      ],
      "metadata": {
        "id": "yLiG5H4NB_GM"
      }
    },
    {
      "cell_type": "code",
      "source": [
        "modelo = LogisticRegression()\n",
        "modelo.fit(X = X_train, y = y_train)"
      ],
      "metadata": {
        "colab": {
          "base_uri": "https://localhost:8080/"
        },
        "outputId": "9871dd1b-6859-4562-c9a7-0941886b4910",
        "id": "EF9HLdn4B_GM"
      },
      "execution_count": null,
      "outputs": [
        {
          "output_type": "execute_result",
          "data": {
            "text/plain": [
              "LogisticRegression()"
            ]
          },
          "metadata": {},
          "execution_count": 24
        }
      ]
    },
    {
      "cell_type": "code",
      "source": [
        "modelo.coef_.tolist()[0]"
      ],
      "metadata": {
        "colab": {
          "base_uri": "https://localhost:8080/"
        },
        "id": "pUpu6vfvDdMi",
        "outputId": "8b1c482e-dbfc-49b9-ec1a-81b1071a7b7b"
      },
      "execution_count": null,
      "outputs": [
        {
          "output_type": "execute_result",
          "data": {
            "text/plain": [
              "[0.0001245073994794718, -5.479927661916416e-05]"
            ]
          },
          "metadata": {},
          "execution_count": 25
        }
      ]
    },
    {
      "cell_type": "code",
      "source": [
        "modelo.intercept_"
      ],
      "metadata": {
        "colab": {
          "base_uri": "https://localhost:8080/"
        },
        "id": "wkCG259wwGcM",
        "outputId": "3f0dd8fa-605a-4db7-bea0-9e1db66708d3"
      },
      "execution_count": null,
      "outputs": [
        {
          "output_type": "execute_result",
          "data": {
            "text/plain": [
              "array([-1.06129155e-06,  1.45106668e-06, -4.02634200e-07, -2.29885548e-07,\n",
              "        2.66047130e-07,  1.21776666e-08, -7.65227366e-08,  3.52588181e-07,\n",
              "       -5.03913144e-07,  1.92367520e-07])"
            ]
          },
          "metadata": {},
          "execution_count": 26
        }
      ]
    },
    {
      "cell_type": "code",
      "source": [
        "# A,B=modelo.coef_.tolist()[0]\n",
        "# C=modelo.intercept_[0]\n",
        "# A,B,C"
      ],
      "metadata": {
        "id": "gRDNfPGQB_GM"
      },
      "execution_count": null,
      "outputs": []
    },
    {
      "cell_type": "markdown",
      "source": [
        "$Ax+By=C$\n",
        "\n",
        "$y=(C-Ax)/B$"
      ],
      "metadata": {
        "id": "2l9_OELrB_GM"
      }
    },
    {
      "cell_type": "code",
      "source": [
        "def y_modelo(x,A,B,C):\n",
        "  return (C-x*A)/B\n",
        "\n",
        "ax = plt.axes()#projection='3d')\n",
        "ax.scatter(X_orig[:,0], X_orig[:,1], c=y,marker='.')\n",
        "\n",
        "for (A,B),C in zip(modelo.coef_,modelo.intercept_):\n",
        "  ax.plot([0,25000],[y_modelo(0,A,B,C),y_modelo(25000,A,B,C)])"
      ],
      "metadata": {
        "colab": {
          "base_uri": "https://localhost:8080/",
          "height": 265
        },
        "outputId": "da76080d-6385-4925-a799-111a960ea85b",
        "id": "4tOPBtFXB_GM"
      },
      "execution_count": null,
      "outputs": [
        {
          "output_type": "display_data",
          "data": {
            "text/plain": [
              "<Figure size 432x288 with 1 Axes>"
            ],
            "image/png": "[encoded data removed]"
          },
          "metadata": {
            "needs_background": "light"
          }
        }
      ]
    },
    {
      "cell_type": "markdown",
      "source": [
        "### Evaluación del Modelo"
      ],
      "metadata": {
        "id": "pWktJLOu1G71"
      }
    },
    {
      "cell_type": "code",
      "source": [
        "accuracy_score(y_train, modelo.predict(X_train))"
      ],
      "metadata": {
        "colab": {
          "base_uri": "https://localhost:8080/"
        },
        "outputId": "3e0b0fa7-e9dd-41ac-9fc3-c4d72ea2ea5a",
        "id": "lyfgVkQ4B_GM"
      },
      "execution_count": null,
      "outputs": [
        {
          "output_type": "execute_result",
          "data": {
            "text/plain": [
              "0.26458797327394207"
            ]
          },
          "metadata": {},
          "execution_count": 29
        }
      ]
    },
    {
      "cell_type": "code",
      "source": [
        "accuracy_score(y_test, modelo.predict(X_test))"
      ],
      "metadata": {
        "colab": {
          "base_uri": "https://localhost:8080/"
        },
        "outputId": "9df04956-03a5-4d61-a6d6-baf8e06308e3",
        "id": "dq4Mh13VB_GN"
      },
      "execution_count": null,
      "outputs": [
        {
          "output_type": "execute_result",
          "data": {
            "text/plain": [
              "0.27076374972166556"
            ]
          },
          "metadata": {},
          "execution_count": 30
        }
      ]
    },
    {
      "cell_type": "markdown",
      "source": [
        "El modelo fracasa al tratar de clasificar todos los dígitos. Seguramente porque sólo tiene dos características. A continuación vamos a repetir el proceso pero cada pixel será una característica."
      ],
      "metadata": {
        "id": "7kPkPkKLB_GN"
      }
    },
    {
      "cell_type": "markdown",
      "source": [
        "## Clasificación de 10 los dígitos con 784 características, sin penalidad"
      ],
      "metadata": {
        "id": "pLrbjrfiGVM7"
      }
    },
    {
      "cell_type": "code",
      "source": [
        "def describe_axis(arr,axis=0):\n",
        "  print(\"Array =\", arr[:5])\n",
        "  return dict(\n",
        "  shape = arr.shape,\n",
        "  mean = np.mean(arr,axis=axis),\n",
        "  median = np.median(arr,axis=axis),\n",
        "  amin = np.amin(arr,axis=axis),\n",
        "  amax = np.amax(arr,axis=axis),\n",
        "  ptp = np.ptp(arr,axis=axis),\n",
        "  var = np.var(arr,axis=axis),\n",
        "  std = np.std(arr,axis=axis),\n",
        "  )\n",
        "  # print(\"Shape =\", arr.shape)\n",
        "  # print(\"Mean =\", mean)\n",
        "  # print(\"Median =\", median) \n",
        "  # print(\"Measures of Dispersion\")\n",
        "  # print(\"Minimum =\", min)\n",
        "  # print(\"Maximum =\", max)\n",
        "  # print(\"Range =\", range)\n",
        "  # print(\"Variance =\", variance)\n",
        "  # print(\"Standard Deviation =\", sd)\n",
        "\n"
      ],
      "metadata": {
        "id": "cS79eKUAGRq5"
      },
      "execution_count": null,
      "outputs": []
    },
    {
      "cell_type": "code",
      "source": [
        "X=datos[:,1:]\n",
        "X.shape"
      ],
      "metadata": {
        "colab": {
          "base_uri": "https://localhost:8080/"
        },
        "outputId": "4c070c92-49c1-4153-b286-56fd70d4d367",
        "id": "lihVUNkUGRq6"
      },
      "execution_count": null,
      "outputs": [
        {
          "output_type": "execute_result",
          "data": {
            "text/plain": [
              "(20000, 784)"
            ]
          },
          "metadata": {},
          "execution_count": 32
        }
      ]
    },
    {
      "cell_type": "code",
      "source": [
        "y=datos[:,0]\n",
        "y.shape"
      ],
      "metadata": {
        "colab": {
          "base_uri": "https://localhost:8080/"
        },
        "id": "5Jfli28pHb4Q",
        "outputId": "b66cec55-34f9-4c60-af1d-ffe4ae34256a"
      },
      "execution_count": null,
      "outputs": [
        {
          "output_type": "execute_result",
          "data": {
            "text/plain": [
              "(20000,)"
            ]
          },
          "metadata": {},
          "execution_count": 33
        }
      ]
    },
    {
      "cell_type": "code",
      "source": [
        "describe_axis(y)"
      ],
      "metadata": {
        "colab": {
          "base_uri": "https://localhost:8080/"
        },
        "outputId": "e35ee6a3-90d6-4ab4-d96e-76c6a618af5b",
        "id": "nKTYQcHIGRq6"
      },
      "execution_count": null,
      "outputs": [
        {
          "output_type": "stream",
          "name": "stdout",
          "text": [
            "Array = [6. 5. 7. 9. 5.]\n"
          ]
        },
        {
          "output_type": "execute_result",
          "data": {
            "text/plain": [
              "{'shape': (20000,),\n",
              " 'mean': 4.4702,\n",
              " 'median': 4.0,\n",
              " 'amin': 0.0,\n",
              " 'amax': 9.0,\n",
              " 'ptp': 9.0,\n",
              " 'var': 8.367611960000001,\n",
              " 'std': 2.892682485168395}"
            ]
          },
          "metadata": {},
          "execution_count": 34
        }
      ]
    },
    {
      "cell_type": "markdown",
      "source": [
        "### División de datos de entrenamiento y prueba"
      ],
      "metadata": {
        "id": "2f-2DgP7GRq6"
      }
    },
    {
      "cell_type": "code",
      "source": [
        "X_train, X_test, y_train, y_test = train_test_split(\n",
        "                                       X,\n",
        "                                       y,\n",
        "                                        train_size   = 0.75,\n",
        "                                        random_state = 1234,\n",
        "                                        shuffle      = True)\n",
        "X_train.shape, X_test.shape, y_train.shape, y_test.shape\n"
      ],
      "metadata": {
        "colab": {
          "base_uri": "https://localhost:8080/"
        },
        "outputId": "6aeb6267-ef81-4830-e549-7083c8f6533e",
        "id": "w926M8NBGRq6"
      },
      "execution_count": null,
      "outputs": [
        {
          "output_type": "execute_result",
          "data": {
            "text/plain": [
              "((15000, 784), (5000, 784), (15000,), (5000,))"
            ]
          },
          "metadata": {},
          "execution_count": 35
        }
      ]
    },
    {
      "cell_type": "markdown",
      "source": [
        "### Evaluación del modelo"
      ],
      "metadata": {
        "id": "zZzRBAVDGRq6"
      }
    },
    {
      "cell_type": "code",
      "source": [
        "modelo = LogisticRegression()\n",
        "modelo.fit(X = X_train, y = y_train)"
      ],
      "metadata": {
        "colab": {
          "base_uri": "https://localhost:8080/"
        },
        "outputId": "34c21320-b961-469e-f226-f850365bcf75",
        "id": "zzTT8V1SGRq6"
      },
      "execution_count": null,
      "outputs": [
        {
          "output_type": "stream",
          "name": "stderr",
          "text": [
            "/usr/local/lib/python3.7/dist-packages/sklearn/linear_model/_logistic.py:818: ConvergenceWarning: lbfgs failed to converge (status=1):\n",
            "STOP: TOTAL NO. of ITERATIONS REACHED LIMIT.\n",
            "\n",
            "Increase the number of iterations (max_iter) or scale the data as shown in:\n",
            "    https://scikit-learn.org/stable/modules/preprocessing.html\n",
            "Please also refer to the documentation for alternative solver options:\n",
            "    https://scikit-learn.org/stable/modules/linear_model.html#logistic-regression\n",
            "  extra_warning_msg=_LOGISTIC_SOLVER_CONVERGENCE_MSG,\n"
          ]
        },
        {
          "output_type": "execute_result",
          "data": {
            "text/plain": [
              "LogisticRegression()"
            ]
          },
          "metadata": {},
          "execution_count": 36
        }
      ]
    },
    {
      "cell_type": "code",
      "source": [
        "modelo.coef_.shape"
      ],
      "metadata": {
        "colab": {
          "base_uri": "https://localhost:8080/"
        },
        "id": "JJqQLKSFH-xU",
        "outputId": "eb0cba68-7ef8-47a4-bafc-e325fba76d30"
      },
      "execution_count": null,
      "outputs": [
        {
          "output_type": "execute_result",
          "data": {
            "text/plain": [
              "(10, 784)"
            ]
          },
          "metadata": {},
          "execution_count": 37
        }
      ]
    },
    {
      "cell_type": "code",
      "source": [
        "accuracy_score(y_train, modelo.predict(X_train))"
      ],
      "metadata": {
        "colab": {
          "base_uri": "https://localhost:8080/"
        },
        "outputId": "3a2fd052-c9dd-4f17-fdd4-a603224fafc1",
        "id": "pE3KJfOVGRq7"
      },
      "execution_count": null,
      "outputs": [
        {
          "output_type": "execute_result",
          "data": {
            "text/plain": [
              "0.9570666666666666"
            ]
          },
          "metadata": {},
          "execution_count": 38
        }
      ]
    },
    {
      "cell_type": "code",
      "source": [
        "accuracy_score(y_test, modelo.predict(X_test))"
      ],
      "metadata": {
        "colab": {
          "base_uri": "https://localhost:8080/"
        },
        "outputId": "c6f8e84e-852a-4e42-a75e-d7377ab5ec2b",
        "id": "ig9kn9REGRq7"
      },
      "execution_count": null,
      "outputs": [
        {
          "output_type": "execute_result",
          "data": {
            "text/plain": [
              "0.9004"
            ]
          },
          "metadata": {},
          "execution_count": 39
        }
      ]
    },
    {
      "cell_type": "markdown",
      "source": [
        "El modelo tiene un desempeño mucho mejor"
      ],
      "metadata": {
        "id": "zGzXV2vpJWYk"
      }
    },
    {
      "cell_type": "code",
      "source": [
        "confusion_matrix(y_train, modelo.predict(X_train))"
      ],
      "metadata": {
        "colab": {
          "base_uri": "https://localhost:8080/"
        },
        "id": "OVZ1yBCyK51O",
        "outputId": "89f89fd0-21b7-4caf-f728-a9ecc4f6f634"
      },
      "execution_count": null,
      "outputs": [
        {
          "output_type": "execute_result",
          "data": {
            "text/plain": [
              "array([[1451,    0,    0,    0,    2,    5,    2,    0,    5,    1],\n",
              "       [   0, 1626,    4,    3,    2,    1,    2,    0,    8,    2],\n",
              "       [   7,    8, 1424,   18,   11,    5,    3,    6,   21,    3],\n",
              "       [   3,    4,   21, 1428,    3,   36,    4,    3,   20,    8],\n",
              "       [   1,    5,    8,    0, 1376,    2,    5,    4,    5,   29],\n",
              "       [   9,    1,    9,   29,    7, 1246,   11,    1,   28,    8],\n",
              "       [   4,    0,    5,    0,    5,    4, 1524,    0,    6,    1],\n",
              "       [   1,    1,   13,    4,    7,    2,    0, 1533,    2,   38],\n",
              "       [   1,   14,   14,   21,    1,   23,    5,    1, 1327,   12],\n",
              "       [   3,    3,    2,   11,   21,    0,    0,   28,    8, 1421]])"
            ]
          },
          "metadata": {},
          "execution_count": 40
        }
      ]
    },
    {
      "cell_type": "code",
      "source": [
        "confusion_matrix(y_test, modelo.predict(X_test))"
      ],
      "metadata": {
        "colab": {
          "base_uri": "https://localhost:8080/"
        },
        "id": "X1t6RNcvJVvd",
        "outputId": "fe35ae8d-dd9a-4db7-df1c-428a2b6a7452"
      },
      "execution_count": null,
      "outputs": [
        {
          "output_type": "execute_result",
          "data": {
            "text/plain": [
              "array([[471,   0,   4,   0,   2,   8,   6,   0,   4,   1],\n",
              "       [  0, 572,   6,   1,   1,   2,   1,   2,   9,   1],\n",
              "       [  7,   6, 425,  10,   9,   7,   3,   2,  11,   3],\n",
              "       [  4,   4,   8, 421,   1,  26,   2,   7,  12,   6],\n",
              "       [  4,   2,   5,   0, 439,   0,   4,   2,   6,  27],\n",
              "       [  5,   3,   1,  17,   4, 338,   9,   4,  26,   5],\n",
              "       [  0,   4,   6,   1,   7,   6, 464,   0,   2,   0],\n",
              "       [  5,   3,   4,   4,   4,   1,   1, 486,   3,  14],\n",
              "       [  4,  17,   9,  16,   2,  13,   3,   2, 418,   9],\n",
              "       [  5,   2,   1,   8,  15,   5,   0,  15,   7, 468]])"
            ]
          },
          "metadata": {},
          "execution_count": 41
        }
      ]
    },
    {
      "cell_type": "markdown",
      "source": [
        "\n",
        "\n",
        "```\n",
        "# Esto tiene formato de código\n",
        "```\n",
        "\n",
        "Una exactitud del 90% significa que, al leer una cifra de 10 dígitos, como el código de la universidad o un número telefónico con indicativo, lo más probable es que cometa un error en algunno de sus dígitos. Por lo tanto, es necesario aumentar la exactiud. Esto se logra con redes neuronales convolucionales las cuales tienen en cuenta las vecindades de un pixel. \n",
        "\n",
        "\n",
        "Ahora evaluaremos la cantidad de coeficientes que realmente requiere el modelo\n"
      ],
      "metadata": {
        "id": "JHkhHW66LbMm"
      }
    },
    {
      "cell_type": "code",
      "source": [
        "modelo.coef_.shape"
      ],
      "metadata": {
        "colab": {
          "base_uri": "https://localhost:8080/"
        },
        "id": "PWQMR2wOPP4Q",
        "outputId": "6cf86447-3c78-461a-c26e-a73674ab2dc6"
      },
      "execution_count": null,
      "outputs": [
        {
          "output_type": "execute_result",
          "data": {
            "text/plain": [
              "(10, 784)"
            ]
          },
          "metadata": {},
          "execution_count": 42
        }
      ]
    },
    {
      "cell_type": "code",
      "source": [
        "modelo.coef_"
      ],
      "metadata": {
        "id": "eo29OqqzPZBT",
        "colab": {
          "base_uri": "https://localhost:8080/"
        },
        "outputId": "059bb861-30c6-4118-dedb-c3837815c52a"
      },
      "execution_count": null,
      "outputs": [
        {
          "output_type": "execute_result",
          "data": {
            "text/plain": [
              "array([[0., 0., 0., ..., 0., 0., 0.],\n",
              "       [0., 0., 0., ..., 0., 0., 0.],\n",
              "       [0., 0., 0., ..., 0., 0., 0.],\n",
              "       ...,\n",
              "       [0., 0., 0., ..., 0., 0., 0.],\n",
              "       [0., 0., 0., ..., 0., 0., 0.],\n",
              "       [0., 0., 0., ..., 0., 0., 0.]])"
            ]
          },
          "metadata": {},
          "execution_count": 43
        }
      ]
    },
    {
      "cell_type": "code",
      "source": [
        "zeros = np.count_nonzero(modelo.coef_ == 0)\n",
        "zeros"
      ],
      "metadata": {
        "colab": {
          "base_uri": "https://localhost:8080/"
        },
        "id": "YKI67Vvm5CFJ",
        "outputId": "023b43ff-8130-4aa4-bc8b-71499117d22c"
      },
      "execution_count": null,
      "outputs": [
        {
          "output_type": "execute_result",
          "data": {
            "text/plain": [
              "970"
            ]
          },
          "metadata": {},
          "execution_count": 44
        }
      ]
    },
    {
      "cell_type": "markdown",
      "source": [
        "De los 7840 coeficientes que requiere el modelo 970 están en cero, es decir que se pueden ignorar."
      ],
      "metadata": {
        "id": "QZHnUoU1ES9C"
      }
    },
    {
      "cell_type": "markdown",
      "source": [
        "## Clasificación de 10 los dígitos con 784 características con penalidad tipo _Ridge_"
      ],
      "metadata": {
        "id": "YXyuZdWrN2NU"
      }
    },
    {
      "cell_type": "code",
      "source": [
        "from sklearn.linear_model import LogisticRegression\n",
        "#from sklearn.datasets import load_iris\n",
        "#X, y = load_iris(return_X_y=True)\n",
        "modelo = LogisticRegression(penalty='l2', solver='liblinear')\n",
        "#log.fit(X, y)\n",
        "modelo.fit(X = X_train, y = y_train)"
      ],
      "metadata": {
        "colab": {
          "base_uri": "https://localhost:8080/"
        },
        "id": "7DpwZ1sON2NU",
        "outputId": "42bfdbfa-ec39-4733-cb52-312cf54a4fc4"
      },
      "execution_count": null,
      "outputs": [
        {
          "output_type": "stream",
          "name": "stderr",
          "text": [
            "/usr/local/lib/python3.7/dist-packages/sklearn/svm/_base.py:1208: ConvergenceWarning: Liblinear failed to converge, increase the number of iterations.\n",
            "  ConvergenceWarning,\n"
          ]
        },
        {
          "output_type": "execute_result",
          "data": {
            "text/plain": [
              "LogisticRegression(solver='liblinear')"
            ]
          },
          "metadata": {},
          "execution_count": 54
        }
      ]
    },
    {
      "cell_type": "code",
      "source": [
        "accuracy_score(y_train, modelo.predict(X_train))"
      ],
      "metadata": {
        "colab": {
          "base_uri": "https://localhost:8080/"
        },
        "id": "w4E9iJ85N2NV",
        "outputId": "9649bdf7-b06e-4157-d8b1-5fad00b30945"
      },
      "execution_count": null,
      "outputs": [
        {
          "output_type": "execute_result",
          "data": {
            "text/plain": [
              "0.967"
            ]
          },
          "metadata": {},
          "execution_count": 55
        }
      ]
    },
    {
      "cell_type": "code",
      "source": [
        "accuracy_score(y_test, modelo.predict(X_test))"
      ],
      "metadata": {
        "colab": {
          "base_uri": "https://localhost:8080/"
        },
        "id": "b1NPq--YN2NV",
        "outputId": "a7ed1d91-9270-4790-acaa-aaea125e9062"
      },
      "execution_count": null,
      "outputs": [
        {
          "output_type": "execute_result",
          "data": {
            "text/plain": [
              "0.8788"
            ]
          },
          "metadata": {},
          "execution_count": 56
        }
      ]
    },
    {
      "cell_type": "code",
      "source": [
        "confusion_matrix(y_train, modelo.predict(X_train))"
      ],
      "metadata": {
        "colab": {
          "base_uri": "https://localhost:8080/"
        },
        "id": "49_D6VbVN2NV",
        "outputId": "2f209461-31d6-4dec-8dd3-0b80adb5b9e8"
      },
      "execution_count": null,
      "outputs": [
        {
          "output_type": "execute_result",
          "data": {
            "text/plain": [
              "array([[1466,    0,    0,    0,    0,    0,    0,    0,    0,    0],\n",
              "       [   0, 1648,    0,    0,    0,    0,    0,    0,    0,    0],\n",
              "       [   0,    0, 1441,   15,    5,    5,    3,    2,   29,    6],\n",
              "       [   1,    0,   23, 1450,    0,   19,    2,    0,   21,   14],\n",
              "       [   0,    0,    5,    2, 1389,    3,    0,    1,    5,   30],\n",
              "       [   1,    0,    6,   24,   10, 1263,    5,    1,   28,   11],\n",
              "       [   0,    0,    1,    0,    1,   10, 1528,    0,    8,    1],\n",
              "       [   0,    0,    1,    1,    2,    0,    0, 1583,    0,   14],\n",
              "       [   1,    0,    7,   30,    2,   26,    2,    0, 1334,   17],\n",
              "       [   2,    0,    6,   20,   24,   11,    0,   15,   16, 1403]])"
            ]
          },
          "metadata": {},
          "execution_count": 57
        }
      ]
    },
    {
      "cell_type": "code",
      "source": [
        "confusion_matrix(y_test, modelo.predict(X_test))"
      ],
      "metadata": {
        "colab": {
          "base_uri": "https://localhost:8080/"
        },
        "id": "sRfhR_ouN2NV",
        "outputId": "286f2f65-3a57-4449-84ed-71f89f9b0d11"
      },
      "execution_count": null,
      "outputs": [
        {
          "output_type": "execute_result",
          "data": {
            "text/plain": [
              "array([[464,   0,   7,   2,   0,   2,   6,   2,  11,   2],\n",
              "       [  0, 563,   6,   1,   2,   1,   0,   3,  19,   0],\n",
              "       [ 11,   7, 396,  13,   5,   3,  18,  14,  15,   1],\n",
              "       [  6,   3,  14, 419,   2,  20,   1,   7,  16,   3],\n",
              "       [  4,   5,   6,   1, 434,   1,   7,   3,   6,  22],\n",
              "       [ 18,   4,   4,  20,   9, 326,   8,   5,  11,   7],\n",
              "       [  6,   4,  11,   2,   6,   7, 450,   0,   4,   0],\n",
              "       [  2,   1,   6,   3,   7,   0,   1, 478,   2,  25],\n",
              "       [  6,  19,  12,  13,   2,  11,   3,   4, 412,  11],\n",
              "       [  4,   3,   1,   9,  25,   3,   0,  21,   8, 452]])"
            ]
          },
          "metadata": {},
          "execution_count": 58
        }
      ]
    },
    {
      "cell_type": "code",
      "source": [
        "modelo.coef_.shape"
      ],
      "metadata": {
        "id": "Hg3hT9clPVec",
        "colab": {
          "base_uri": "https://localhost:8080/"
        },
        "outputId": "c05a1392-c4ac-4227-a8d5-21f0388f076a"
      },
      "execution_count": null,
      "outputs": [
        {
          "output_type": "execute_result",
          "data": {
            "text/plain": [
              "(10, 784)"
            ]
          },
          "metadata": {},
          "execution_count": 59
        }
      ]
    },
    {
      "cell_type": "code",
      "source": [
        "modelo.coef_.shape"
      ],
      "metadata": {
        "colab": {
          "base_uri": "https://localhost:8080/"
        },
        "outputId": "380fe693-9a2f-4c41-87dd-3946bc6b7125",
        "id": "HuYwSZb26XO7"
      },
      "execution_count": null,
      "outputs": [
        {
          "output_type": "execute_result",
          "data": {
            "text/plain": [
              "(10, 784)"
            ]
          },
          "metadata": {},
          "execution_count": 60
        }
      ]
    },
    {
      "cell_type": "code",
      "source": [
        "modelo.coef_"
      ],
      "metadata": {
        "colab": {
          "base_uri": "https://localhost:8080/"
        },
        "outputId": "d30d0491-d253-4881-d664-e2349cfee319",
        "id": "FqpR4tRL6XO7"
      },
      "execution_count": null,
      "outputs": [
        {
          "output_type": "execute_result",
          "data": {
            "text/plain": [
              "array([[0., 0., 0., ..., 0., 0., 0.],\n",
              "       [0., 0., 0., ..., 0., 0., 0.],\n",
              "       [0., 0., 0., ..., 0., 0., 0.],\n",
              "       ...,\n",
              "       [0., 0., 0., ..., 0., 0., 0.],\n",
              "       [0., 0., 0., ..., 0., 0., 0.],\n",
              "       [0., 0., 0., ..., 0., 0., 0.]])"
            ]
          },
          "metadata": {},
          "execution_count": 61
        }
      ]
    },
    {
      "cell_type": "code",
      "source": [
        "zeros = np.count_nonzero(modelo.coef_ == 0)\n",
        "zeros"
      ],
      "metadata": {
        "colab": {
          "base_uri": "https://localhost:8080/"
        },
        "outputId": "2faf439f-d785-49ed-cb0e-a5bdb311613b",
        "id": "OfQbj0NK6XO8"
      },
      "execution_count": null,
      "outputs": [
        {
          "output_type": "execute_result",
          "data": {
            "text/plain": [
              "970"
            ]
          },
          "metadata": {},
          "execution_count": 62
        }
      ]
    },
    {
      "cell_type": "markdown",
      "source": [
        "La penalidad tipo _Ridge_ (L2) practicamente no altera las cantidad de características usadas."
      ],
      "metadata": {
        "id": "10dTpLmzE_Hd"
      }
    },
    {
      "cell_type": "markdown",
      "source": [
        "## Clasificación de 10 los dígitos con 784 características con penalidad tipo \n",
        "LASSO"
      ],
      "metadata": {
        "id": "LLG6SExQM7NG"
      }
    },
    {
      "cell_type": "code",
      "source": [
        "from sklearn.linear_model import LogisticRegression\n",
        "modelo = LogisticRegression(penalty='l1', solver='liblinear')\n",
        "modelo.fit(X = X_train, y = y_train)"
      ],
      "metadata": {
        "colab": {
          "base_uri": "https://localhost:8080/"
        },
        "id": "MU1NwTsULadH",
        "outputId": "9a65eacc-ecc5-4143-f24c-213f3784f138"
      },
      "execution_count": null,
      "outputs": [
        {
          "output_type": "execute_result",
          "data": {
            "text/plain": [
              "LogisticRegression(penalty='l1', solver='liblinear')"
            ]
          },
          "metadata": {},
          "execution_count": 70
        }
      ]
    },
    {
      "cell_type": "code",
      "source": [
        "accuracy_score(y_train, modelo.predict(X_train))"
      ],
      "metadata": {
        "colab": {
          "base_uri": "https://localhost:8080/"
        },
        "id": "sglDBy-cJVr-",
        "outputId": "b1308f54-366d-4efc-b79f-2eaf79fa4d42"
      },
      "execution_count": null,
      "outputs": [
        {
          "output_type": "execute_result",
          "data": {
            "text/plain": [
              "0.9674666666666667"
            ]
          },
          "metadata": {},
          "execution_count": 71
        }
      ]
    },
    {
      "cell_type": "code",
      "source": [
        "accuracy_score(y_test, modelo.predict(X_test))"
      ],
      "metadata": {
        "colab": {
          "base_uri": "https://localhost:8080/"
        },
        "id": "Rl36FyMrJVn8",
        "outputId": "3c1b2bc9-7ee0-4ab2-a723-436f1c5d4161"
      },
      "execution_count": null,
      "outputs": [
        {
          "output_type": "execute_result",
          "data": {
            "text/plain": [
              "0.8852"
            ]
          },
          "metadata": {},
          "execution_count": 72
        }
      ]
    },
    {
      "cell_type": "code",
      "source": [
        "confusion_matrix(y_train, modelo.predict(X_train))"
      ],
      "metadata": {
        "colab": {
          "base_uri": "https://localhost:8080/"
        },
        "id": "gGxst2BgJVhp",
        "outputId": "14e9dd56-2f76-46a8-af11-0a98d0329e91"
      },
      "execution_count": null,
      "outputs": [
        {
          "output_type": "execute_result",
          "data": {
            "text/plain": [
              "array([[1466,    0,    0,    0,    0,    0,    0,    0,    0,    0],\n",
              "       [   0, 1647,    0,    0,    0,    0,    0,    0,    1,    0],\n",
              "       [   0,    0, 1445,   14,    6,    8,    1,    3,   22,    7],\n",
              "       [   1,    0,   25, 1450,    0,   20,    3,    0,   17,   14],\n",
              "       [   0,    0,    4,    1, 1391,    4,    0,    2,    5,   28],\n",
              "       [   2,    0,    5,   24,   10, 1266,    4,    1,   26,   11],\n",
              "       [   0,    0,    1,    0,    1,    5, 1539,    0,    3,    0],\n",
              "       [   0,    0,    2,    1,    2,    0,    0, 1577,    0,   19],\n",
              "       [   1,    1,    8,   32,    3,   26,    1,    0, 1328,   19],\n",
              "       [   3,    1,    6,   21,   23,    9,    0,   18,   13, 1403]])"
            ]
          },
          "metadata": {},
          "execution_count": 73
        }
      ]
    },
    {
      "cell_type": "code",
      "source": [
        "confusion_matrix(y_test, modelo.predict(X_test))"
      ],
      "metadata": {
        "colab": {
          "base_uri": "https://localhost:8080/"
        },
        "id": "t3HPHOpbJVeB",
        "outputId": "1a72c98d-037e-49f5-ec03-9607c139ab2a"
      },
      "execution_count": null,
      "outputs": [
        {
          "output_type": "execute_result",
          "data": {
            "text/plain": [
              "array([[465,   0,   6,   2,   0,   4,   7,   2,   8,   2],\n",
              "       [  0, 565,   5,   1,   2,   3,   0,   3,  15,   1],\n",
              "       [ 10,   4, 401,  12,   7,   4,  18,  11,  15,   1],\n",
              "       [  4,   3,  15, 423,   1,  22,   2,   7,  11,   3],\n",
              "       [  4,   5,   4,   1, 426,   4,  15,   0,   5,  25],\n",
              "       [ 12,   5,   3,  17,   7, 342,   6,   6,   7,   7],\n",
              "       [  2,   3,  13,   3,   6,  12, 449,   0,   2,   0],\n",
              "       [  3,   1,   4,   3,   8,   0,   1, 483,   3,  19],\n",
              "       [  4,  18,  13,  14,   2,   9,   3,   4, 414,  12],\n",
              "       [  3,   2,   1,   8,  23,   4,   1,  17,   9, 458]])"
            ]
          },
          "metadata": {},
          "execution_count": 74
        }
      ]
    },
    {
      "cell_type": "code",
      "source": [
        "modelo.coef_.shape"
      ],
      "metadata": {
        "id": "RFelCl46PTOm",
        "colab": {
          "base_uri": "https://localhost:8080/"
        },
        "outputId": "d30c9bda-1512-4a66-ebdb-685646111ce1"
      },
      "execution_count": null,
      "outputs": [
        {
          "output_type": "execute_result",
          "data": {
            "text/plain": [
              "(10, 784)"
            ]
          },
          "metadata": {},
          "execution_count": 75
        }
      ]
    },
    {
      "cell_type": "code",
      "source": [
        "modelo.coef_.shape"
      ],
      "metadata": {
        "colab": {
          "base_uri": "https://localhost:8080/"
        },
        "outputId": "d4e5e918-6ee8-4e90-84f9-c4e2d984cee3",
        "id": "D0M8GUme6To1"
      },
      "execution_count": null,
      "outputs": [
        {
          "output_type": "execute_result",
          "data": {
            "text/plain": [
              "(10, 784)"
            ]
          },
          "metadata": {},
          "execution_count": 76
        }
      ]
    },
    {
      "cell_type": "code",
      "source": [
        "modelo.coef_"
      ],
      "metadata": {
        "colab": {
          "base_uri": "https://localhost:8080/"
        },
        "outputId": "5e9d627c-0ae3-4774-d546-f862d59e1e43",
        "id": "YT6vkT8I6To2"
      },
      "execution_count": null,
      "outputs": [
        {
          "output_type": "execute_result",
          "data": {
            "text/plain": [
              "array([[0., 0., 0., ..., 0., 0., 0.],\n",
              "       [0., 0., 0., ..., 0., 0., 0.],\n",
              "       [0., 0., 0., ..., 0., 0., 0.],\n",
              "       ...,\n",
              "       [0., 0., 0., ..., 0., 0., 0.],\n",
              "       [0., 0., 0., ..., 0., 0., 0.],\n",
              "       [0., 0., 0., ..., 0., 0., 0.]])"
            ]
          },
          "metadata": {},
          "execution_count": 77
        }
      ]
    },
    {
      "cell_type": "code",
      "source": [
        "zeros = np.count_nonzero(modelo.coef_ == 0)\n",
        "zeros"
      ],
      "metadata": {
        "colab": {
          "base_uri": "https://localhost:8080/"
        },
        "outputId": "724d55bb-f5a0-4ded-affb-0ac474b23d54",
        "id": "71vnry7H6To2"
      },
      "execution_count": null,
      "outputs": [
        {
          "output_type": "execute_result",
          "data": {
            "text/plain": [
              "2497"
            ]
          },
          "metadata": {},
          "execution_count": 78
        }
      ]
    },
    {
      "cell_type": "markdown",
      "source": [
        " Vemos como la penalidad tipo LASSO (L1) aumenta en más del doble la cantidad de características que no se usan."
      ],
      "metadata": {
        "id": "VvOvKHsXFuAf"
      }
    },
    {
      "cell_type": "markdown",
      "source": [
        "## Conclusión\n",
        "\n",
        "Una vez mas enfatizo que la regresión logística es usada com un clasificador, además puede tener penalizaciones tipo _Ridge_ (L2) y tipo LASSO (L1)."
      ],
      "metadata": {
        "id": "oYzWqr6FHTu9"
      }
    }
  ]
}